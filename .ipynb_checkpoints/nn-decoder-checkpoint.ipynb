{
 "cells": [
  {
   "cell_type": "code",
   "execution_count": 2,
   "metadata": {
    "collapsed": true
   },
   "outputs": [],
   "source": [
    "import numpy as np\n",
    "import tensorflow as tf\n",
    "\n",
    "from numpy import genfromtxt\n",
    "my_data = genfromtxt('data.csv', delimiter=',')"
   ]
  },
  {
   "cell_type": "code",
   "execution_count": 3,
   "metadata": {},
   "outputs": [
    {
     "data": {
      "text/plain": [
       "array([[  1.,   3.,   0.,   0.,   0.],\n",
       "       [  3.,   1.,   1.,   1.,   1.],\n",
       "       [  3.,   1.,   3.,   1.,   2.],\n",
       "       [  3.,   1.,   1.,   0.,   3.],\n",
       "       [  1.,   0.,   0.,   0.,   4.],\n",
       "       [  1.,   1.,   3.,   1.,   5.],\n",
       "       [  3.,   3.,   1.,   0.,   6.],\n",
       "       [  1.,   1.,   1.,   1.,   7.],\n",
       "       [  1.,   1.,   0.,   0.,   8.],\n",
       "       [  1.,   3.,   3.,   3.,   9.],\n",
       "       [  3.,   1.,   3.,   0.,  10.],\n",
       "       [  1.,   3.,   1.,   1.,  11.],\n",
       "       [  3.,   3.,   0.,   0.,  12.],\n",
       "       [  3.,   1.,   0.,   0.,  13.],\n",
       "       [  3.,   3.,   3.,   0.,  14.],\n",
       "       [  1.,   3.,   3.,   1.,  15.],\n",
       "       [  3.,   3.,   1.,   3.,  16.],\n",
       "       [  1.,   3.,   1.,   0.,  17.],\n",
       "       [  1.,   1.,   1.,   0.,  18.],\n",
       "       [  3.,   0.,   0.,   0.,  19.],\n",
       "       [  1.,   1.,   3.,   0.,  20.],\n",
       "       [  1.,   1.,   1.,   3.,  21.],\n",
       "       [  1.,   3.,   3.,   0.,  22.],\n",
       "       [  3.,   1.,   1.,   3.,  23.],\n",
       "       [  3.,   1.,   3.,   3.,  24.],\n",
       "       [  3.,   3.,   1.,   1.,  25.]])"
      ]
     },
     "execution_count": 3,
     "metadata": {},
     "output_type": "execute_result"
    }
   ],
   "source": [
    "my_data"
   ]
  },
  {
   "cell_type": "code",
   "execution_count": 4,
   "metadata": {
    "collapsed": true
   },
   "outputs": [],
   "source": [
    "code = my_data[:,0:4]\n",
    "label = my_data[:, 4]"
   ]
  },
  {
   "cell_type": "code",
   "execution_count": 5,
   "metadata": {
    "collapsed": true
   },
   "outputs": [],
   "source": [
    "sess = tf.InteractiveSession()"
   ]
  },
  {
   "cell_type": "code",
   "execution_count": 6,
   "metadata": {
    "collapsed": true
   },
   "outputs": [],
   "source": [
    "one_hot_label = tf.one_hot(label, 26, 1, 0, -1)\n",
    "one_hot_label = sess.run(one_hot_label)"
   ]
  },
  {
   "cell_type": "code",
   "execution_count": 7,
   "metadata": {
    "collapsed": true
   },
   "outputs": [],
   "source": [
    "x = tf.placeholder(tf.float32, [None, 4])\n",
    "y_ = tf.placeholder(tf.float32, [None, 26])\n",
    "feed_dict1 = {\n",
    "    x: code,\n",
    "    y_: one_hot_label,\n",
    "}"
   ]
  },
  {
   "cell_type": "code",
   "execution_count": 8,
   "metadata": {
    "collapsed": true
   },
   "outputs": [],
   "source": [
    "W1 = tf.Variable(tf.random_normal([4, 10]))\n",
    "b1 = tf.Variable(tf.random_normal([10]))\n",
    "y1 = tf.nn.relu(tf.matmul(x, W1) + b1)\n",
    "\n",
    "W2 = tf.Variable(tf.random_normal([10, 26]))\n",
    "b2 = tf.Variable(tf.random_normal([26]))\n",
    "\n",
    "y = (tf.matmul(y1, W2) + b2)\n"
   ]
  },
  {
   "cell_type": "code",
   "execution_count": 11,
   "metadata": {
    "collapsed": true,
    "scrolled": false
   },
   "outputs": [],
   "source": [
    "correct_prediction = tf.equal(tf.argmax(y,1), tf.argmax(y_,1))\n",
    "accuracy = tf.reduce_mean(tf.cast(correct_prediction, tf.float32))\n",
    "\n",
    "loss = tf.reduce_mean(tf.nn.softmax_cross_entropy_with_logits(logits = y, labels = y_))\n",
    "# train_step  = tf.train.GradientDescentOptimizer(learning_rate).minimize(loss)\n",
    "train_step  = tf.train.AdamOptimizer().minimize(loss)\n",
    "\n",
    "# cross_entropy = tf.reduce_mean(-tf.reduce_sum(y_ * tf.log(y), reduction_indices=[1]))\n",
    "# train_step = tf.train.GradientDescentOptimizer(0.5).minimize(cross_entropy)"
   ]
  },
  {
   "cell_type": "code",
   "execution_count": 12,
   "metadata": {
    "collapsed": true
   },
   "outputs": [],
   "source": [
    "tf.global_variables_initializer().run()"
   ]
  },
  {
   "cell_type": "code",
   "execution_count": 15,
   "metadata": {
    "scrolled": false
   },
   "outputs": [
    {
     "name": "stdout",
     "output_type": "stream",
     "text": [
      "loss:  0.000868407 , acc:  1.0\n",
      "loss:  0.000477203 , acc:  1.0\n",
      "loss:  0.000265662 , acc:  1.0\n",
      "loss:  0.000149265 , acc:  1.0\n",
      "loss:  8.44072e-05 , acc:  1.0\n"
     ]
    }
   ],
   "source": [
    "for i in range(5000):\n",
    "#     batch_xs, batch_ys = mnist.train.next_batch(100)\n",
    "#     sess.run(train_step, feed_dict={x: batch_xs, y_: batch_ys})\n",
    "    _,acc_val,loss_val = sess.run([train_step, accuracy, loss], feed_dict=feed_dict1)\n",
    "    if i % 1000 == 0:\n",
    "        print('loss: ',loss_val, ', acc: ', acc_val)\n"
   ]
  },
  {
   "cell_type": "code",
   "execution_count": 16,
   "metadata": {},
   "outputs": [
    {
     "data": {
      "text/plain": [
       "[<tf.Variable 'Variable:0' shape=(4, 10) dtype=float32_ref>,\n",
       " <tf.Variable 'Variable_1:0' shape=(10,) dtype=float32_ref>,\n",
       " <tf.Variable 'Variable_2:0' shape=(10, 26) dtype=float32_ref>,\n",
       " <tf.Variable 'Variable_3:0' shape=(26,) dtype=float32_ref>]"
      ]
     },
     "execution_count": 16,
     "metadata": {},
     "output_type": "execute_result"
    }
   ],
   "source": [
    "all_weights = tf.trainable_variables()\n",
    "tf.trainable_variables()"
   ]
  },
  {
   "cell_type": "code",
   "execution_count": 18,
   "metadata": {},
   "outputs": [],
   "source": [
    "param_w1 = sess.run(all_weights[0])\n",
    "param_b1 = sess.run(all_weights[1])\n",
    "param_w2 = sess.run(all_weights[2])\n",
    "param_b2 = sess.run(all_weights[3])"
   ]
  },
  {
   "cell_type": "code",
   "execution_count": 19,
   "metadata": {},
   "outputs": [
    {
     "data": {
      "text/plain": [
       "array([-0.0668986 , -1.04709017,  2.82442451,  0.56552941,  4.0838995 ,\n",
       "        1.20888507,  0.90870506, -0.44434905, -1.22852302, -0.6662271 ], dtype=float32)"
      ]
     },
     "execution_count": 19,
     "metadata": {},
     "output_type": "execute_result"
    }
   ],
   "source": [
    "param_b1"
   ]
  },
  {
   "cell_type": "code",
   "execution_count": 25,
   "metadata": {},
   "outputs": [
    {
     "name": "stderr",
     "output_type": "stream",
     "text": [
      "/Users/tianweixing/anaconda/lib/python3.6/site-packages/matplotlib/axes/_axes.py:6097: UserWarning: 2D hist input should be nsamples x nvariables;\n",
      " this looks transposed (shape is 1 x 40)\n",
      "  '(shape is %d x %d)' % inp.shape[::-1])\n"
     ]
    },
    {
     "data": {
      "image/png": "[encoded data removed]",
      "text/plain": [
       "<matplotlib.figure.Figure at 0x122c7b780>"
      ]
     },
     "metadata": {},
     "output_type": "display_data"
    },
    {
     "data": {
      "image/png": "[encoded data removed]",
      "text/plain": [
       "<matplotlib.figure.Figure at 0x12255e400>"
      ]
     },
     "metadata": {},
     "output_type": "display_data"
    },
    {
     "name": "stderr",
     "output_type": "stream",
     "text": [
      "/Users/tianweixing/anaconda/lib/python3.6/site-packages/matplotlib/axes/_axes.py:6097: UserWarning: 2D hist input should be nsamples x nvariables;\n",
      " this looks transposed (shape is 1 x 260)\n",
      "  '(shape is %d x %d)' % inp.shape[::-1])\n"
     ]
    },
    {
     "data": {
      "image/png": "[encoded data removed]",
      "text/plain": [
       "<matplotlib.figure.Figure at 0x122c8e160>"
      ]
     },
     "metadata": {},
     "output_type": "display_data"
    },
    {
     "data": {
      "image/png": "[encoded data removed]",
      "text/plain": [
       "<matplotlib.figure.Figure at 0x122ab26a0>"
      ]
     },
     "metadata": {},
     "output_type": "display_data"
    }
   ],
   "source": [
    "import matplotlib.pyplot as plt\n",
    "plt.hist(np.reshape(param_w1, [1,40]), bins=10)  # arguments are passed to np.histogram\n",
    "plt.title(\"Histogram with 'auto' bins\")\n",
    "plt.show()\n",
    "\n",
    "plt.hist(param_b1, bins=10)  # arguments are passed to np.histogram\n",
    "plt.title(\"Histogram with 'auto' bins\")\n",
    "plt.show()\n",
    "\n",
    "plt.hist(np.reshape(param_w2, [1,260]), bins=10)  # arguments are passed to np.histogram\n",
    "plt.title(\"Histogram with 'auto' bins\")\n",
    "plt.show()\n",
    "\n",
    "plt.hist(param_b2, bins=10)  # arguments are passed to np.histogram\n",
    "plt.title(\"Histogram with 'auto' bins\")\n",
    "plt.show()"
   ]
  },
  {
   "cell_type": "code",
   "execution_count": 22,
   "metadata": {},
   "outputs": [
    {
     "name": "stdout",
     "output_type": "stream",
     "text": [
      "-4.25139 3.82992\n",
      "-1.22852 4.0839\n",
      "-10.9637 5.73788\n",
      "-3.0361 6.87514\n"
     ]
    }
   ],
   "source": [
    "print(np.min(param_w1), np.max(param_w1))\n",
    "print(np.min(param_b1), np.max(param_b1))\n",
    "print(np.min(param_w2), np.max(param_w2))\n",
    "print(np.min(param_b2), np.max(param_b2))"
   ]
  },
  {
   "cell_type": "code",
   "execution_count": 29,
   "metadata": {
    "scrolled": false
   },
   "outputs": [],
   "source": [
    "inter_v1, inter_v2 = sess.run([y1, y], feed_dict=feed_dict1)"
   ]
  },
  {
   "cell_type": "code",
   "execution_count": 30,
   "metadata": {},
   "outputs": [
    {
     "name": "stdout",
     "output_type": "stream",
     "text": [
      "0.0 16.3524\n",
      "-126.894 39.7302\n"
     ]
    }
   ],
   "source": [
    "print(np.min(inter_v1), np.max(inter_v1))\n",
    "print(np.min(inter_v2), np.max(inter_v2))"
   ]
  },
  {
   "cell_type": "code",
   "execution_count": 31,
   "metadata": {
    "scrolled": false
   },
   "outputs": [
    {
     "data": {
      "text/plain": [
       "array([[  3.97302322e+01,  -2.99901905e+01,  -2.82148170e+01,\n",
       "         -1.32350206e+01,   7.26628447e+00,  -9.35655785e+00,\n",
       "         -2.55660572e+01,  -3.37266731e+01,   2.51262894e+01,\n",
       "         -2.41760750e+01,  -2.20088463e+01,   1.79055099e+01,\n",
       "          1.29570980e+01,  -2.36579704e+01,  -4.69159279e+01,\n",
       "         -4.99562607e+01,  -2.00175133e+01,   2.93386021e+01,\n",
       "         -2.89218979e+01,  -6.16083717e+00,   9.20055270e-01,\n",
       "         -1.05404959e+01,   5.78508759e+00,  -2.05482121e+01,\n",
       "         -1.50457792e+01,  -2.41642761e+01],\n",
       "       [ -5.79362183e+01,   1.39467831e+01,  -1.58016717e+00,\n",
       "          2.83132195e+00,   2.63146639e+00,  -2.10831184e+01,\n",
       "         -3.36603394e+01,  -3.74232054e+00,  -1.57445898e+01,\n",
       "         -2.69459248e+01,  -9.38225460e+00,  -4.84678574e+01,\n",
       "         -3.19064827e+01,  -1.44537067e+01,  -2.80443630e+01,\n",
       "         -7.11236496e+01,  -5.80486870e+00,  -2.86779404e+01,\n",
       "          2.97215509e+00,   5.64464509e-01,  -3.34067688e+01,\n",
       "         -1.31077099e+01,  -3.39220467e+01,  -2.73641396e+00,\n",
       "         -2.59903121e+00,  -9.43324566e+00],\n",
       "       [ -9.15146637e+01,   3.80509138e+00,   1.52987251e+01,\n",
       "         -7.66389465e+00,  -2.28715019e+01,  -8.11362147e-01,\n",
       "         -3.85690155e+01,  -1.45610113e+01,  -7.55628738e+01,\n",
       "         -7.98024797e+00,   4.78549719e+00,  -5.19289017e+01,\n",
       "         -5.81196938e+01,  -5.23743744e+01,  -3.53157158e+01,\n",
       "         -4.88669968e+01,  -1.97985001e+01,  -3.02105789e+01,\n",
       "          3.41813469e+00,  -1.40804148e+01,  -3.81772423e+00,\n",
       "         -1.04103994e+01,  -1.66396904e+01,   3.12034464e+00,\n",
       "          4.79138756e+00,  -4.64810829e+01],\n",
       "       [ -4.12497635e+01,   4.88753557e+00,  -1.10744190e+01,\n",
       "          1.58966599e+01,  -1.26496315e+01,  -3.56657448e+01,\n",
       "         -1.65815842e+00,  -3.00965691e+01,  -1.44358988e+01,\n",
       "         -2.87066498e+01,   3.43317556e+00,  -2.01158428e+01,\n",
       "         -1.74736176e+01,   1.89076626e+00,   3.61221528e+00,\n",
       "         -4.83837090e+01,  -1.16752708e+00,  -1.71036301e+01,\n",
       "          1.88310623e+00,  -1.15296423e-01,  -2.34338570e+01,\n",
       "         -1.85403118e+01,  -1.57730417e+01,  -1.21804686e+01,\n",
       "         -2.04551239e+01,   4.65290260e+00],\n",
       "       [ -2.17990208e+01,   6.00599575e+00,  -5.40332699e+00,\n",
       "         -7.91064501e+00,   1.65403023e+01,  -6.32073116e+00,\n",
       "         -2.68045425e+01,   5.14881372e+00,   3.30766344e+00,\n",
       "         -1.65304928e+01,  -1.63303776e+01,  -2.73211536e+01,\n",
       "         -1.11065960e+01,  -1.07069845e+01,  -3.63398628e+01,\n",
       "         -4.85887222e+01,  -4.74708080e+00,  -1.93653450e+01,\n",
       "         -4.31466579e-01,   4.49184322e+00,  -2.15671291e+01,\n",
       "         -4.31091213e+00,  -2.79007835e+01,  -1.06268311e+00,\n",
       "          3.78646970e+00,  -1.10355539e+01],\n",
       "       [ -6.33627472e+01,  -7.38956881e+00,   1.62837257e+01,\n",
       "         -2.71571789e+01,  -1.07731953e+01,   2.83805237e+01,\n",
       "         -3.38269844e+01,   1.90603220e+00,  -6.92147675e+01,\n",
       "          1.27227154e+01,  -3.32143164e+00,  -2.92489376e+01,\n",
       "         -4.30116997e+01,  -6.48887329e+01,  -5.12569466e+01,\n",
       "         -1.20399342e+01,  -2.45928898e+01,  -2.16065292e+01,\n",
       "          5.46838760e+00,  -2.12347603e+01,   1.73024158e+01,\n",
       "          1.18100882e+00,  -4.30338192e+00,   3.49587965e+00,\n",
       "          1.69517536e+01,  -5.59049149e+01],\n",
       "       [ -1.43984051e+01,  -9.07542324e+00,  -2.18572140e+01,\n",
       "          7.24415970e+00,  -6.93445158e+00,  -2.63633251e+01,\n",
       "          1.98893719e+01,  -3.52665596e+01,  -4.10337925e+00,\n",
       "         -2.17438927e+01,  -1.89439809e+00,   9.27223301e+00,\n",
       "          5.02783728e+00,   1.19438660e+00,   1.23527122e+00,\n",
       "         -1.94180584e+01,  -3.11278152e+00,  -8.94732475e+00,\n",
       "          4.07851696e+00,  -8.56280804e+00,  -8.99191761e+00,\n",
       "         -1.67229977e+01,  -8.55834723e-01,  -2.38793488e+01,\n",
       "         -2.47756577e+01,   1.00805435e+01],\n",
       "       [ -3.81432571e+01,   6.32260847e+00,   6.13604975e+00,\n",
       "         -1.44320612e+01,   9.62605858e+00,   9.32229710e+00,\n",
       "         -3.45507622e+01,   2.09824982e+01,  -1.41554308e+01,\n",
       "         -3.15670204e+00,  -1.36744595e+01,  -3.16601963e+01,\n",
       "         -2.49455338e+01,  -2.64428158e+01,  -3.56388168e+01,\n",
       "         -3.20090828e+01,  -8.56250668e+00,  -1.97280293e+01,\n",
       "          8.47597694e+00,  -7.33937168e+00,  -1.44483709e+01,\n",
       "          1.47651464e-01,  -2.23128891e+01,   3.07143021e+00,\n",
       "          1.14217806e+01,  -1.78336906e+01],\n",
       "       [  5.01759815e+00,  -5.27673483e+00,  -1.79713993e+01,\n",
       "          1.42683005e+00,   7.75426245e+00,  -1.86282806e+01,\n",
       "         -2.60611916e+00,  -1.28602152e+01,   1.90337219e+01,\n",
       "         -2.04642048e+01,  -1.11406002e+01,   2.21892118e+00,\n",
       "          7.66798973e+00,   5.55231094e+00,  -1.07537537e+01,\n",
       "         -3.11214371e+01,  -5.84866583e-01,  -1.87709355e+00,\n",
       "         -2.08348799e+00,   1.12374330e+00,  -1.65851440e+01,\n",
       "         -8.96185684e+00,  -1.08818827e+01,  -1.25500479e+01,\n",
       "         -1.38338890e+01,   7.17569637e+00],\n",
       "       [ -5.36372070e+01,  -1.42064934e+01,   6.00641203e+00,\n",
       "         -3.57312164e+01,  -2.06656590e+01,   5.89218760e+00,\n",
       "         -4.31561012e+01,  -1.80907631e+01,  -5.56846924e+01,\n",
       "          2.15621243e+01,  -1.13151741e+01,  -3.34522552e+01,\n",
       "         -3.84790611e+01,  -6.08440323e+01,  -5.32212029e+01,\n",
       "         -1.62914562e+01,  -1.08711576e+01,  -1.75882626e+01,\n",
       "          3.87130737e+00,  -3.34448471e+01,  -1.19444191e+00,\n",
       "          9.26842499e+00,  -1.42330046e+01,  -6.51606703e+00,\n",
       "          4.07268906e+00,  -4.94390526e+01],\n",
       "       [ -7.91053619e+01,  -3.43499231e+00,   9.16557884e+00,\n",
       "          6.20252323e+00,  -4.03095398e+01,  -1.44440813e+01,\n",
       "         -9.63930988e+00,  -3.57372017e+01,  -7.60714340e+01,\n",
       "         -8.12293625e+00,   1.90399761e+01,  -2.66399555e+01,\n",
       "         -4.76420670e+01,  -3.57648392e+01,   3.97813499e-01,\n",
       "         -2.47752151e+01,  -1.40286093e+01,  -1.85559673e+01,\n",
       "          4.60356331e+00,  -1.55852404e+01,   4.63731003e+00,\n",
       "         -1.49052496e+01,   9.75968599e-01,  -3.73954916e+00,\n",
       "         -1.20542154e+01,  -3.12692337e+01],\n",
       "       [  2.49983144e+00,  -1.18670597e+01,  -1.09067745e+01,\n",
       "         -4.01431799e+00,  -3.12321711e+00,  -3.63084221e+00,\n",
       "          4.07349730e+00,  -1.33368454e+01,  -1.46026444e+00,\n",
       "         -4.32035017e+00,  -3.55581379e+00,   1.41043205e+01,\n",
       "          2.52294540e+00,  -9.47534943e+00,  -6.69590139e+00,\n",
       "         -1.93650222e+00,  -6.21584082e+00,   3.50463581e+00,\n",
       "          1.05450106e+00,  -8.73923874e+00,   3.36751223e+00,\n",
       "         -4.98242283e+00,   4.79350376e+00,  -1.17583590e+01,\n",
       "         -9.84025764e+00,  -4.27807665e+00],\n",
       "       [  8.84713840e+00,  -2.52977638e+01,  -3.53430786e+01,\n",
       "         -4.32215118e+00,   7.32521486e+00,  -3.38546944e+01,\n",
       "          8.22842121e+00,  -4.29019470e+01,   1.45453377e+01,\n",
       "         -4.04278107e+01,  -1.91001186e+01,   8.08396816e+00,\n",
       "          2.63196507e+01,   1.15904408e+01,  -2.27314186e+01,\n",
       "         -4.80004616e+01,   1.19889021e+00,  -5.70427752e+00,\n",
       "         -8.77106476e+00,   2.96148682e+00,  -1.88522091e+01,\n",
       "         -1.67356892e+01,  -1.21059332e+01,  -2.29851513e+01,\n",
       "         -3.26953163e+01,   5.80051136e+00],\n",
       "       [ -1.58694191e+01,  -9.83027649e+00,  -2.67086697e+01,\n",
       "          1.12485094e+01,  -1.81487989e+00,  -4.94990082e+01,\n",
       "          3.34274220e+00,  -4.17882156e+01,   6.43773079e+00,\n",
       "         -4.70086136e+01,  -8.15895939e+00,  -1.28439198e+01,\n",
       "          1.00574245e+01,   2.49084854e+01,  -2.63074541e+00,\n",
       "         -6.40640488e+01,   8.99010658e+00,  -1.55576601e+01,\n",
       "         -5.96399879e+00,   1.29419050e+01,  -3.32889748e+01,\n",
       "         -1.96789989e+01,  -2.39928246e+01,  -1.33820944e+01,\n",
       "         -3.41459770e+01,   1.26844072e+01],\n",
       "       [ -5.32316208e+01,  -1.46323757e+01,   6.73978806e-01,\n",
       "          1.12798100e+01,  -4.78937454e+01,  -1.62396240e+01,\n",
       "          2.24117413e+01,  -3.71207771e+01,  -6.03351517e+01,\n",
       "         -1.38500834e+00,   2.40498180e+01,   9.45913506e+00,\n",
       "         -2.57257271e+01,  -1.76042843e+01,   3.51510811e+01,\n",
       "          1.80414696e+01,  -6.02590561e+00,  -3.22578907e+00,\n",
       "          1.54841175e+01,  -2.60013084e+01,   1.26036339e+01,\n",
       "         -1.46417751e+01,   2.18917160e+01,  -1.44479675e+01,\n",
       "         -2.68935490e+01,  -3.79927206e+00],\n",
       "       [ -3.29220695e+01,  -1.65091228e+01,  -2.29911804e-02,\n",
       "         -3.78353786e+00,  -2.78827038e+01,   3.36406517e+00,\n",
       "          1.64571857e+01,  -9.47553444e+00,  -3.85091476e+01,\n",
       "          8.21611595e+00,   9.22886658e+00,   1.62196465e+01,\n",
       "         -1.31812372e+01,  -2.03068600e+01,   1.88420773e+01,\n",
       "          3.18785744e+01,  -5.83501577e+00,  -9.70987976e-01,\n",
       "          2.12011032e+01,  -3.01840153e+01,   1.29224596e+01,\n",
       "         -5.81227493e+00,   1.97265415e+01,  -1.39261789e+01,\n",
       "         -1.59649754e+01,   3.31116021e-01],\n",
       "       [ -4.28357162e+01,  -2.29819145e+01,  -1.34777012e+01,\n",
       "         -2.28977470e+01,  -6.20092487e+00,  -3.53881607e+01,\n",
       "         -4.50522766e+01,  -2.16166878e+01,  -1.86849709e+01,\n",
       "         -3.32190514e+01,  -2.52164555e+01,  -4.81474991e+01,\n",
       "         -7.72202158e+00,  -5.85082173e-01,  -3.82917099e+01,\n",
       "         -7.56109619e+01,   1.41131840e+01,  -2.43679028e+01,\n",
       "         -1.01631784e+00,  -1.35518837e+00,  -4.46325340e+01,\n",
       "         -3.16947889e+00,  -4.29813652e+01,   5.33078074e-01,\n",
       "         -2.57274857e+01,  -1.41867819e+01],\n",
       "       [  1.34956532e+01,  -2.57267208e+01,  -1.69612198e+01,\n",
       "         -9.94599056e+00,  -7.35605288e+00,  -4.25823069e+00,\n",
       "         -2.01087475e+01,  -2.22027550e+01,   4.37558460e+00,\n",
       "         -1.36130943e+01,  -1.20532856e+01,   1.44310932e+01,\n",
       "         -1.41529775e+00,  -2.72396069e+01,  -2.51371403e+01,\n",
       "         -2.73384418e+01,  -1.74937458e+01,   2.43246632e+01,\n",
       "         -1.28992023e+01,  -1.80054474e+01,   3.15435791e+00,\n",
       "         -9.47807312e+00,   1.18691092e+01,  -1.82210045e+01,\n",
       "         -1.51528158e+01,  -1.71315937e+01],\n",
       "       [ -2.21747417e+01,  -2.45086527e+00,  -2.95226431e+00,\n",
       "         -1.89848423e+00,  -5.13538837e+00,  -4.45726538e+00,\n",
       "         -3.46965361e+00,  -2.63110447e+00,  -1.19387760e+01,\n",
       "         -4.57511473e+00,  -1.62445939e+00,  -3.94749451e+00,\n",
       "         -1.07736435e+01,  -1.00727596e+01,  -3.72517323e+00,\n",
       "         -8.71151638e+00,  -3.56389737e+00,  -8.31092930e+00,\n",
       "          8.75305271e+00,  -9.02758121e+00,  -5.54298782e+00,\n",
       "         -4.95961380e+00,  -4.56757164e+00,  -6.31737900e+00,\n",
       "         -6.15071201e+00,  -2.38886595e+00],\n",
       "       [ -3.98354912e+01,  -9.66297150e-01,  -1.47185535e+01,\n",
       "          2.56725430e+00,   4.17318535e+00,  -3.92967682e+01,\n",
       "         -2.73950481e+01,  -2.93219166e+01,  -9.64354610e+00,\n",
       "         -4.58456917e+01,  -1.30169601e+01,  -4.32821045e+01,\n",
       "         -1.12922430e+01,   5.12453651e+00,  -3.14797344e+01,\n",
       "         -9.01911621e+01,   2.03974676e+00,  -2.73507442e+01,\n",
       "         -1.04865303e+01,   1.71013107e+01,  -3.74729042e+01,\n",
       "         -1.63210964e+01,  -3.95341797e+01,  -1.60562980e+00,\n",
       "         -1.76089039e+01,  -1.13472462e+01],\n",
       "       [ -5.09534531e+01,  -1.46296539e+01,   1.01505795e+01,\n",
       "         -1.32907572e+01,  -2.82112427e+01,   1.47478037e+01,\n",
       "         -4.89726925e+00,  -1.92701530e+01,  -6.97233276e+01,\n",
       "          1.25800228e+01,   1.09330492e+01,  -3.95999336e+00,\n",
       "         -3.25340729e+01,  -4.82791939e+01,  -1.55434036e+01,\n",
       "          1.20518436e+01,  -1.88229980e+01,  -9.95191765e+00,\n",
       "          6.65382195e+00,  -2.27395859e+01,   2.57574444e+01,\n",
       "         -3.31384277e+00,   1.33122740e+01,  -3.36401701e+00,\n",
       "          1.06147051e-01,  -4.06930504e+01],\n",
       "       [ -6.93157349e+01,  -1.39157867e+01,   2.26049519e+00,\n",
       "         -5.77328491e+01,  -1.06440296e+01,  -2.37700768e+01,\n",
       "         -1.09723938e+02,  -2.98620472e+01,  -4.79096565e+01,\n",
       "          5.77563047e+00,  -3.81494560e+01,  -9.73594208e+01,\n",
       "         -5.01297913e+01,  -6.14013786e+01,  -1.09057007e+02,\n",
       "         -1.01807999e+02,   4.46397305e+00,  -3.65466843e+01,\n",
       "         -1.61279774e+01,  -1.84175148e+01,  -4.85342026e+01,\n",
       "          1.97359238e+01,  -6.93705826e+01,   6.87476301e+00,\n",
       "          4.50238132e+00,  -7.49665756e+01],\n",
       "       [ -2.98153610e+01,  -2.55181046e+01,  -1.86240411e+00,\n",
       "         -6.01138878e+00,  -3.51294632e+01,   1.68645346e+00,\n",
       "         -2.84755039e+00,  -1.59074945e+01,  -3.85518265e+01,\n",
       "          1.79457760e+00,   5.94779205e+00,   1.39157009e+01,\n",
       "         -2.04050694e+01,  -3.33590050e+01,   9.84966278e+00,\n",
       "          1.30304279e+01,  -1.36124020e+01,   1.45432749e+01,\n",
       "          1.15164604e+01,  -3.70807152e+01,   1.24048386e+01,\n",
       "         -9.33758450e+00,   2.52720032e+01,  -1.67544365e+01,\n",
       "         -2.02568703e+01,  -9.58560371e+00],\n",
       "       [ -9.12179413e+01,  -5.74655581e+00,   9.49436378e+00,\n",
       "         -4.33326225e+01,   7.98370790e+00,  -1.40129213e+01,\n",
       "         -1.08813416e+02,   9.02826309e+00,  -4.63100357e+01,\n",
       "         -2.99827194e+01,  -3.90566216e+01,  -1.10204628e+02,\n",
       "         -4.92042465e+01,  -4.03662834e+01,  -9.75819855e+01,\n",
       "         -1.26894341e+02,   1.67548227e+00,  -4.85991287e+01,\n",
       "         -6.19893265e+00,   2.55140400e+00,  -5.72713165e+01,\n",
       "          4.62521076e+00,  -7.58677139e+01,   2.20224876e+01,\n",
       "          6.88622665e+00,  -5.75959625e+01],\n",
       "       [ -1.16333260e+02,   1.82852592e+01,   2.75650215e+01,\n",
       "         -3.53967400e+01,   1.20045872e+01,   2.64540806e+01,\n",
       "         -9.64284439e+01,   2.77913551e+01,  -7.45457687e+01,\n",
       "         -7.69486094e+00,  -2.37234592e+01,  -1.02506783e+02,\n",
       "         -7.90749512e+01,  -8.55934677e+01,  -1.06742767e+02,\n",
       "         -9.70505524e+01,  -3.13382854e+01,  -5.35197945e+01,\n",
       "          1.04726696e+00,  -1.10707655e+01,  -2.07277737e+01,\n",
       "         -1.42069769e+00,  -5.18710022e+01,   1.68401337e+01,\n",
       "          3.84825935e+01,  -7.69048004e+01],\n",
       "       [ -1.89331303e+01,  -2.18887043e+00,  -1.99705353e+01,\n",
       "          9.17334366e+00,  -1.85193968e+00,  -2.89048786e+01,\n",
       "          1.09024172e+01,  -2.03052273e+01,   7.16957760e+00,\n",
       "         -2.53382626e+01,  -6.03859377e+00,  -9.29018021e-01,\n",
       "          2.23870587e+00,   8.06002426e+00,   4.20712233e+00,\n",
       "         -2.87341461e+01,   1.38468778e+00,  -1.16273041e+01,\n",
       "          9.11535263e+00,  -7.80822754e+00,  -2.24657574e+01,\n",
       "         -1.62088528e+01,  -9.68667412e+00,  -2.12673874e+01,\n",
       "         -2.34951534e+01,   2.05695267e+01]], dtype=float32)"
      ]
     },
     "execution_count": 31,
     "metadata": {},
     "output_type": "execute_result"
    }
   ],
   "source": [
    "inter_v2"
   ]
  },
  {
   "cell_type": "code",
   "execution_count": null,
   "metadata": {
    "collapsed": true
   },
   "outputs": [],
   "source": []
  }
 ],
 "metadata": {
  "kernelspec": {
   "display_name": "Python 3",
   "language": "python",
   "name": "python3"
  },
  "language_info": {
   "codemirror_mode": {
    "name": "ipython",
    "version": 3
   },
   "file_extension": ".py",
   "mimetype": "text/x-python",
   "name": "python",
   "nbconvert_exporter": "python",
   "pygments_lexer": "ipython3",
   "version": "3.6.1"
  }
 },
 "nbformat": 4,
 "nbformat_minor": 2
}
