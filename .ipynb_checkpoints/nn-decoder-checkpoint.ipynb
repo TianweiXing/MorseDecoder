{
 "cells": [
  {
   "cell_type": "code",
   "execution_count": 1,
   "metadata": {
    "collapsed": true
   },
   "outputs": [],
   "source": [
    "import numpy as np\n",
    "import tensorflow as tf\n",
    "\n",
    "from numpy import genfromtxt\n",
    "my_data = genfromtxt('data.csv', delimiter=',')"
   ]
  },
  {
   "cell_type": "code",
   "execution_count": 2,
   "metadata": {},
   "outputs": [
    {
     "data": {
      "text/plain": [
       "array([[  1.,   3.,   0.,   0.,   0.],\n",
       "       [  3.,   1.,   1.,   1.,   1.],\n",
       "       [  3.,   1.,   3.,   1.,   2.],\n",
       "       [  3.,   1.,   1.,   0.,   3.],\n",
       "       [  1.,   0.,   0.,   0.,   4.],\n",
       "       [  1.,   1.,   3.,   1.,   5.],\n",
       "       [  3.,   3.,   1.,   0.,   6.],\n",
       "       [  1.,   1.,   1.,   1.,   7.],\n",
       "       [  1.,   1.,   0.,   0.,   8.],\n",
       "       [  1.,   3.,   3.,   3.,   9.],\n",
       "       [  3.,   1.,   3.,   0.,  10.],\n",
       "       [  1.,   3.,   1.,   1.,  11.],\n",
       "       [  3.,   3.,   0.,   0.,  12.],\n",
       "       [  3.,   1.,   0.,   0.,  13.],\n",
       "       [  3.,   3.,   3.,   0.,  14.],\n",
       "       [  1.,   3.,   3.,   1.,  15.],\n",
       "       [  3.,   3.,   1.,   3.,  16.],\n",
       "       [  1.,   3.,   1.,   0.,  17.],\n",
       "       [  1.,   1.,   1.,   0.,  18.],\n",
       "       [  3.,   0.,   0.,   0.,  19.],\n",
       "       [  1.,   1.,   3.,   0.,  20.],\n",
       "       [  1.,   1.,   1.,   3.,  21.],\n",
       "       [  1.,   3.,   3.,   0.,  22.],\n",
       "       [  3.,   1.,   1.,   3.,  23.],\n",
       "       [  3.,   1.,   3.,   3.,  24.],\n",
       "       [  3.,   3.,   1.,   1.,  25.]])"
      ]
     },
     "execution_count": 2,
     "metadata": {},
     "output_type": "execute_result"
    }
   ],
   "source": [
    "my_data"
   ]
  },
  {
   "cell_type": "code",
   "execution_count": 3,
   "metadata": {
    "collapsed": true
   },
   "outputs": [],
   "source": [
    "code = my_data[:,0:4]\n",
    "label = my_data[:, 4]"
   ]
  },
  {
   "cell_type": "code",
   "execution_count": 4,
   "metadata": {
    "collapsed": true
   },
   "outputs": [],
   "source": [
    "sess = tf.InteractiveSession()"
   ]
  },
  {
   "cell_type": "code",
   "execution_count": 5,
   "metadata": {
    "collapsed": true
   },
   "outputs": [],
   "source": [
    "one_hot_label = tf.one_hot(label, 26, 1, 0, -1)\n",
    "one_hot_label = sess.run(one_hot_label)"
   ]
  },
  {
   "cell_type": "code",
   "execution_count": 6,
   "metadata": {
    "collapsed": true
   },
   "outputs": [],
   "source": [
    "x = tf.placeholder(tf.float32, [None, 4])\n",
    "y_ = tf.placeholder(tf.float32, [None, 26])\n",
    "feed_dict1 = {\n",
    "    x: code,\n",
    "    y_: one_hot_label,\n",
    "}"
   ]
  },
  {
   "cell_type": "code",
   "execution_count": 7,
   "metadata": {},
   "outputs": [],
   "source": [
    "W1 = tf.Variable(tf.random_normal([4, 10]))\n",
    "b1 = tf.Variable(tf.random_normal([10]))\n",
    "y1 = tf.nn.relu(tf.matmul(x, W1) + b1)\n",
    "\n",
    "W2 = tf.Variable(tf.random_normal([10, 26]))\n",
    "b2 = tf.Variable(tf.random_normal([26]))\n",
    "\n",
    "y = (tf.matmul(y1, W2) + b2)\n"
   ]
  },
  {
   "cell_type": "code",
   "execution_count": 8,
   "metadata": {
    "collapsed": true
   },
   "outputs": [],
   "source": [
    "# W1 = tf.Variable(tf.random_normal([4, 10]))\n",
    "# b1 = tf.Variable(tf.random_normal([10]))\n",
    "# y1 = tf.nn.relu(tf.matmul(x, W1) + b1)\n",
    "\n",
    "# W2 = tf.Variable(tf.random_normal([10, 10]))\n",
    "# b2 = tf.Variable(tf.random_normal([10]))\n",
    "# y2 = tf.nn.relu(tf.matmul(y1, W2) + b2)\n",
    "\n",
    "# W3 = tf.Variable(tf.random_normal([10, 26]))\n",
    "# b3 = tf.Variable(tf.random_normal([26]))\n",
    "# # y = tf.nn.softmax(tf.matmul(y2, W3) + b3)\n",
    "# y = (tf.matmul(y2, W3) + b3)"
   ]
  },
  {
   "cell_type": "code",
   "execution_count": 9,
   "metadata": {
    "scrolled": false
   },
   "outputs": [],
   "source": [
    "correct_prediction = tf.equal(tf.argmax(y,1), tf.argmax(y_,1))\n",
    "accuracy = tf.reduce_mean(tf.cast(correct_prediction, tf.float32))\n",
    "\n",
    "loss = tf.reduce_mean(tf.nn.softmax_cross_entropy_with_logits(logits = y, labels = y_))\n",
    "# train_step  = tf.train.GradientDescentOptimizer(learning_rate).minimize(loss)\n",
    "train_step  = tf.train.AdamOptimizer().minimize(loss)\n",
    "\n",
    "# cross_entropy = tf.reduce_mean(-tf.reduce_sum(y_ * tf.log(y), reduction_indices=[1]))\n",
    "# train_step = tf.train.GradientDescentOptimizer(0.5).minimize(cross_entropy)"
   ]
  },
  {
   "cell_type": "code",
   "execution_count": 10,
   "metadata": {
    "collapsed": true
   },
   "outputs": [],
   "source": [
    "tf.global_variables_initializer().run()"
   ]
  },
  {
   "cell_type": "code",
   "execution_count": 11,
   "metadata": {
    "scrolled": false
   },
   "outputs": [
    {
     "name": "stdout",
     "output_type": "stream",
     "text": [
      "loss:  13.704 , acc:  0.0384615\n",
      "loss:  0.610854 , acc:  0.923077\n",
      "loss:  0.0587403 , acc:  1.0\n",
      "loss:  0.0188275 , acc:  1.0\n",
      "loss:  0.00813087 , acc:  1.0\n"
     ]
    }
   ],
   "source": [
    "for i in range(5000):\n",
    "#     batch_xs, batch_ys = mnist.train.next_batch(100)\n",
    "#     sess.run(train_step, feed_dict={x: batch_xs, y_: batch_ys})\n",
    "    _,acc_val,loss_val = sess.run([train_step, accuracy, loss], feed_dict=feed_dict1)\n",
    "    if i % 1000 == 0:\n",
    "        print('loss: ',loss_val, ', acc: ', acc_val)\n"
   ]
  },
  {
   "cell_type": "code",
   "execution_count": 15,
   "metadata": {},
   "outputs": [
    {
     "data": {
      "text/plain": [
       "[<tf.Variable 'Variable:0' shape=(4, 10) dtype=float32_ref>,\n",
       " <tf.Variable 'Variable_1:0' shape=(10,) dtype=float32_ref>,\n",
       " <tf.Variable 'Variable_2:0' shape=(10, 26) dtype=float32_ref>,\n",
       " <tf.Variable 'Variable_3:0' shape=(26,) dtype=float32_ref>]"
      ]
     },
     "execution_count": 15,
     "metadata": {},
     "output_type": "execute_result"
    }
   ],
   "source": [
    "all_weights = tf.trainable_variables()\n",
    "tf.trainable_variables()"
   ]
  },
  {
   "cell_type": "code",
   "execution_count": 17,
   "metadata": {},
   "outputs": [],
   "source": [
    "param_w1 = sess.run(weights[0])\n",
    "param_b1 = sess.run(weights[1])\n",
    "param_w2 = sess.run(weights[2])\n",
    "param_b2 = sess.run(weights[3])"
   ]
  },
  {
   "cell_type": "code",
   "execution_count": 18,
   "metadata": {},
   "outputs": [
    {
     "data": {
      "text/plain": [
       "array([-1.40605056, -0.33205533,  0.88387132, -0.06883357, -1.12443757,\n",
       "        1.17291081, -0.28378472,  0.43599692, -0.51584053,  2.52187657], dtype=float32)"
      ]
     },
     "execution_count": 18,
     "metadata": {},
     "output_type": "execute_result"
    }
   ],
   "source": [
    "param_b1"
   ]
  },
  {
   "cell_type": "code",
   "execution_count": 25,
   "metadata": {},
   "outputs": [
    {
     "name": "stderr",
     "output_type": "stream",
     "text": [
      "/Users/tianweixing/anaconda/lib/python3.6/site-packages/matplotlib/axes/_axes.py:6097: UserWarning: 2D hist input should be nsamples x nvariables;\n",
      " this looks transposed (shape is 1 x 40)\n",
      "  '(shape is %d x %d)' % inp.shape[::-1])\n"
     ]
    },
    {
     "data": {
      "image/png": "[encoded data removed]",
      "text/plain": [
       "<matplotlib.figure.Figure at 0x11b95db38>"
      ]
     },
     "metadata": {},
     "output_type": "display_data"
    },
    {
     "data": {
      "image/png": "[encoded data removed]",
      "text/plain": [
       "<matplotlib.figure.Figure at 0x11b196780>"
      ]
     },
     "metadata": {},
     "output_type": "display_data"
    },
    {
     "name": "stderr",
     "output_type": "stream",
     "text": [
      "/Users/tianweixing/anaconda/lib/python3.6/site-packages/matplotlib/axes/_axes.py:6097: UserWarning: 2D hist input should be nsamples x nvariables;\n",
      " this looks transposed (shape is 1 x 260)\n",
      "  '(shape is %d x %d)' % inp.shape[::-1])\n"
     ]
    },
    {
     "data": {
      "image/png": "[encoded data removed]",
      "text/plain": [
       "<matplotlib.figure.Figure at 0x11b9cf198>"
      ]
     },
     "metadata": {},
     "output_type": "display_data"
    },
    {
     "data": {
      "image/png": "[encoded data removed]",
      "text/plain": [
       "<matplotlib.figure.Figure at 0x11af31be0>"
      ]
     },
     "metadata": {},
     "output_type": "display_data"
    }
   ],
   "source": [
    "import matplotlib.pyplot as plt\n",
    "plt.hist(np.reshape(param_w1, [1,40]), bins='auto')  # arguments are passed to np.histogram\n",
    "plt.title(\"Histogram with 'auto' bins\")\n",
    "plt.show()\n",
    "\n",
    "plt.hist(param_b1, bins=10)  # arguments are passed to np.histogram\n",
    "plt.title(\"Histogram with 'auto' bins\")\n",
    "plt.show()\n",
    "\n",
    "plt.hist(np.reshape(param_w2, [1,260]), bins='auto')  # arguments are passed to np.histogram\n",
    "plt.title(\"Histogram with 'auto' bins\")\n",
    "plt.show()\n",
    "\n",
    "plt.hist(param_b2, bins=10)  # arguments are passed to np.histogram\n",
    "plt.title(\"Histogram with 'auto' bins\")\n",
    "plt.show()"
   ]
  },
  {
   "cell_type": "code",
   "execution_count": null,
   "metadata": {
    "collapsed": true
   },
   "outputs": [],
   "source": []
  }
 ],
 "metadata": {
  "kernelspec": {
   "display_name": "Python 3",
   "language": "python",
   "name": "python3"
  },
  "language_info": {
   "codemirror_mode": {
    "name": "ipython",
    "version": 3
   },
   "file_extension": ".py",
   "mimetype": "text/x-python",
   "name": "python",
   "nbconvert_exporter": "python",
   "pygments_lexer": "ipython3",
   "version": "3.6.1"
  }
 },
 "nbformat": 4,
 "nbformat_minor": 2
}
