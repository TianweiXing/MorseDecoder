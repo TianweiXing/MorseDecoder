{
 "cells": [
  {
   "cell_type": "code",
   "execution_count": 1,
   "metadata": {
    "collapsed": true
   },
   "outputs": [],
   "source": [
    "import numpy as np\n",
    "import tensorflow as tf\n",
    "\n",
    "from numpy import genfromtxt\n",
    "my_data = genfromtxt('data.csv', delimiter=',')"
   ]
  },
  {
   "cell_type": "code",
   "execution_count": 2,
   "metadata": {},
   "outputs": [
    {
     "data": {
      "text/plain": [
       "array([[  1.,   3.,   0.,   0.,   0.],\n",
       "       [  3.,   1.,   1.,   1.,   1.],\n",
       "       [  3.,   1.,   3.,   1.,   2.],\n",
       "       [  3.,   1.,   1.,   0.,   3.],\n",
       "       [  1.,   0.,   0.,   0.,   4.],\n",
       "       [  1.,   1.,   3.,   1.,   5.],\n",
       "       [  3.,   3.,   1.,   0.,   6.],\n",
       "       [  1.,   1.,   1.,   1.,   7.],\n",
       "       [  1.,   1.,   0.,   0.,   8.],\n",
       "       [  1.,   3.,   3.,   3.,   9.],\n",
       "       [  3.,   1.,   3.,   0.,  10.],\n",
       "       [  1.,   3.,   1.,   1.,  11.],\n",
       "       [  3.,   3.,   0.,   0.,  12.],\n",
       "       [  3.,   1.,   0.,   0.,  13.],\n",
       "       [  3.,   3.,   3.,   0.,  14.],\n",
       "       [  1.,   3.,   3.,   1.,  15.],\n",
       "       [  3.,   3.,   1.,   3.,  16.],\n",
       "       [  1.,   3.,   1.,   0.,  17.],\n",
       "       [  1.,   1.,   1.,   0.,  18.],\n",
       "       [  3.,   0.,   0.,   0.,  19.],\n",
       "       [  1.,   1.,   3.,   0.,  20.],\n",
       "       [  1.,   1.,   1.,   3.,  21.],\n",
       "       [  1.,   3.,   3.,   0.,  22.],\n",
       "       [  3.,   1.,   1.,   3.,  23.],\n",
       "       [  3.,   1.,   3.,   3.,  24.],\n",
       "       [  3.,   3.,   1.,   1.,  25.]])"
      ]
     },
     "execution_count": 2,
     "metadata": {},
     "output_type": "execute_result"
    }
   ],
   "source": [
    "my_data"
   ]
  },
  {
   "cell_type": "code",
   "execution_count": 3,
   "metadata": {
    "collapsed": true
   },
   "outputs": [],
   "source": [
    "code = my_data[:,0:4]\n",
    "label = my_data[:, 4]"
   ]
  },
  {
   "cell_type": "code",
   "execution_count": 4,
   "metadata": {
    "collapsed": true
   },
   "outputs": [],
   "source": [
    "sess = tf.InteractiveSession()"
   ]
  },
  {
   "cell_type": "code",
   "execution_count": 5,
   "metadata": {
    "collapsed": true
   },
   "outputs": [],
   "source": [
    "one_hot_label = tf.one_hot(label, 26, 1, 0, -1)\n",
    "one_hot_label = sess.run(one_hot_label)"
   ]
  },
  {
   "cell_type": "code",
   "execution_count": 6,
   "metadata": {
    "collapsed": true
   },
   "outputs": [],
   "source": [
    "x = tf.placeholder(tf.float32, [None, 4])\n",
    "y_ = tf.placeholder(tf.float32, [None, 26])\n",
    "feed_dict1 = {\n",
    "    x: code,\n",
    "    y_: one_hot_label,\n",
    "}"
   ]
  },
  {
   "cell_type": "code",
   "execution_count": 7,
   "metadata": {
    "collapsed": true
   },
   "outputs": [],
   "source": [
    "W1 = tf.Variable(tf.random_normal([4, 4]))\n",
    "b1 = tf.Variable(tf.random_normal([4]))\n",
    "y1 = tf.nn.relu(tf.matmul(x, W1) + b1)\n",
    "\n",
    "W2 = tf.Variable(tf.random_normal([4, 26]))\n",
    "b2 = tf.Variable(tf.random_normal([26]))\n",
    "\n",
    "y = (tf.matmul(y1, W2) + b2)\n"
   ]
  },
  {
   "cell_type": "code",
   "execution_count": 8,
   "metadata": {
    "collapsed": true,
    "scrolled": false
   },
   "outputs": [],
   "source": [
    "correct_prediction = tf.equal(tf.argmax(y,1), tf.argmax(y_,1))\n",
    "accuracy = tf.reduce_mean(tf.cast(correct_prediction, tf.float32))\n",
    "\n",
    "loss = tf.reduce_mean(tf.nn.softmax_cross_entropy_with_logits(logits = y, labels = y_))\n",
    "# train_step  = tf.train.GradientDescentOptimizer(learning_rate).minimize(loss)\n",
    "train_step  = tf.train.AdamOptimizer().minimize(loss)\n",
    "\n",
    "# cross_entropy = tf.reduce_mean(-tf.reduce_sum(y_ * tf.log(y), reduction_indices=[1]))\n",
    "# train_step = tf.train.GradientDescentOptimizer(0.5).minimize(cross_entropy)"
   ]
  },
  {
   "cell_type": "code",
   "execution_count": 9,
   "metadata": {
    "collapsed": true
   },
   "outputs": [],
   "source": [
    "tf.global_variables_initializer().run()"
   ]
  },
  {
   "cell_type": "code",
   "execution_count": 10,
   "metadata": {
    "scrolled": false
   },
   "outputs": [
    {
     "name": "stdout",
     "output_type": "stream",
     "text": [
      "loss:  10.7196 , acc:  0.0384615\n",
      "loss:  3.06147 , acc:  0.0769231\n",
      "loss:  2.1953 , acc:  0.269231\n",
      "loss:  1.58914 , acc:  0.461538\n",
      "loss:  1.09561 , acc:  0.730769\n",
      "loss:  0.756845 , acc:  0.884615\n",
      "loss:  0.531731 , acc:  0.923077\n",
      "loss:  0.357496 , acc:  1.0\n",
      "loss:  0.181782 , acc:  1.0\n",
      "loss:  0.100122 , acc:  1.0\n",
      "loss:  0.0372093 , acc:  1.0\n",
      "loss:  0.0173982 , acc:  1.0\n",
      "loss:  0.00993201 , acc:  1.0\n",
      "loss:  0.00596605 , acc:  1.0\n",
      "loss:  0.0037306 , acc:  1.0\n",
      "loss:  0.00237345 , acc:  1.0\n",
      "loss:  0.00152062 , acc:  1.0\n",
      "loss:  0.00097763 , acc:  1.0\n",
      "loss:  0.000629155 , acc:  1.0\n",
      "loss:  0.00040515 , acc:  1.0\n",
      "loss:  0.000260904 , acc:  1.0\n",
      "loss:  0.000167868 , acc:  1.0\n",
      "loss:  0.00010788 , acc:  1.0\n",
      "loss:  6.92164e-05 , acc:  1.0\n",
      "loss:  4.43611e-05 , acc:  1.0\n",
      "loss:  2.84026e-05 , acc:  1.0\n",
      "loss:  1.81651e-05 , acc:  1.0\n",
      "loss:  1.16181e-05 , acc:  1.0\n",
      "loss:  7.36337e-06 , acc:  1.0\n",
      "loss:  4.52992e-06 , acc:  1.0\n",
      "loss:  2.76931e-06 , acc:  1.0\n",
      "loss:  1.71019e-06 , acc:  1.0\n",
      "loss:  1.04079e-06 , acc:  1.0\n",
      "loss:  6.6482e-07 , acc:  1.0\n",
      "loss:  4.44742e-07 , acc:  1.0\n",
      "loss:  3.20948e-07 , acc:  1.0\n",
      "loss:  2.38419e-07 , acc:  1.0\n",
      "loss:  2.06324e-07 , acc:  1.0\n",
      "loss:  1.78814e-07 , acc:  1.0\n",
      "loss:  1.19209e-07 , acc:  1.0\n",
      "loss:  1.19209e-07 , acc:  1.0\n",
      "loss:  1.10039e-07 , acc:  1.0\n",
      "loss:  1.37549e-07 , acc:  1.0\n",
      "loss:  1.28379e-07 , acc:  1.0\n",
      "loss:  1.51304e-07 , acc:  1.0\n",
      "loss:  1.65059e-07 , acc:  1.0\n",
      "loss:  1.69644e-07 , acc:  1.0\n",
      "loss:  1.65059e-07 , acc:  1.0\n",
      "loss:  1.60474e-07 , acc:  1.0\n",
      "loss:  1.51304e-07 , acc:  1.0\n",
      "loss:  1.51304e-07 , acc:  1.0\n",
      "loss:  1.74229e-07 , acc:  1.0\n",
      "loss:  1.42134e-07 , acc:  1.0\n",
      "loss:  1.23794e-07 , acc:  1.0\n",
      "loss:  1.69644e-07 , acc:  1.0\n",
      "loss:  1.60474e-07 , acc:  1.0\n",
      "loss:  2.01739e-07 , acc:  1.0\n",
      "loss:  1.97154e-07 , acc:  1.0\n",
      "loss:  1.74229e-07 , acc:  1.0\n",
      "loss:  1.19209e-07 , acc:  1.0\n",
      "loss:  1.10039e-07 , acc:  1.0\n",
      "loss:  9.16994e-08 , acc:  1.0\n",
      "loss:  8.71145e-08 , acc:  1.0\n",
      "loss:  6.87746e-08 , acc:  1.0\n",
      "loss:  6.87746e-08 , acc:  1.0\n",
      "loss:  7.79445e-08 , acc:  1.0\n",
      "loss:  5.96046e-08 , acc:  1.0\n",
      "loss:  4.58497e-08 , acc:  1.0\n",
      "loss:  5.96046e-08 , acc:  1.0\n",
      "loss:  5.50197e-08 , acc:  1.0\n",
      "loss:  5.96046e-08 , acc:  1.0\n",
      "loss:  5.50197e-08 , acc:  1.0\n",
      "loss:  5.96046e-08 , acc:  1.0\n",
      "loss:  6.41896e-08 , acc:  1.0\n",
      "loss:  5.96046e-08 , acc:  1.0\n",
      "loss:  6.41896e-08 , acc:  1.0\n",
      "loss:  5.50197e-08 , acc:  1.0\n",
      "loss:  6.41896e-08 , acc:  1.0\n",
      "loss:  4.58497e-08 , acc:  1.0\n",
      "loss:  4.58497e-08 , acc:  1.0\n",
      "loss:  4.12647e-08 , acc:  1.0\n",
      "loss:  5.50197e-08 , acc:  1.0\n",
      "loss:  4.12647e-08 , acc:  1.0\n",
      "loss:  5.04347e-08 , acc:  1.0\n",
      "loss:  4.58497e-08 , acc:  1.0\n",
      "loss:  5.04347e-08 , acc:  1.0\n",
      "loss:  4.58497e-08 , acc:  1.0\n",
      "loss:  4.12647e-08 , acc:  1.0\n",
      "loss:  4.58497e-08 , acc:  1.0\n",
      "loss:  4.58497e-08 , acc:  1.0\n",
      "loss:  5.50197e-08 , acc:  1.0\n",
      "loss:  4.12647e-08 , acc:  1.0\n",
      "loss:  5.04347e-08 , acc:  1.0\n",
      "loss:  5.96046e-08 , acc:  1.0\n",
      "loss:  4.12647e-08 , acc:  1.0\n",
      "loss:  5.04347e-08 , acc:  1.0\n",
      "loss:  5.04347e-08 , acc:  1.0\n",
      "loss:  5.50197e-08 , acc:  1.0\n",
      "loss:  4.58497e-08 , acc:  1.0\n",
      "loss:  4.58497e-08 , acc:  1.0\n"
     ]
    }
   ],
   "source": [
    "for i in range(100000):\n",
    "#     batch_xs, batch_ys = mnist.train.next_batch(100)\n",
    "#     sess.run(train_step, feed_dict={x: batch_xs, y_: batch_ys})\n",
    "    _,acc_val,loss_val = sess.run([train_step, accuracy, loss], feed_dict=feed_dict1)\n",
    "    if i % 1000 == 0:\n",
    "        print('loss: ',loss_val, ', acc: ', acc_val)\n"
   ]
  },
  {
   "cell_type": "markdown",
   "metadata": {},
   "source": [
    "# Values histogram analysis "
   ]
  },
  {
   "cell_type": "code",
   "execution_count": 11,
   "metadata": {},
   "outputs": [
    {
     "data": {
      "text/plain": [
       "[<tf.Variable 'Variable:0' shape=(4, 4) dtype=float32_ref>,\n",
       " <tf.Variable 'Variable_1:0' shape=(4,) dtype=float32_ref>,\n",
       " <tf.Variable 'Variable_2:0' shape=(4, 26) dtype=float32_ref>,\n",
       " <tf.Variable 'Variable_3:0' shape=(26,) dtype=float32_ref>]"
      ]
     },
     "execution_count": 11,
     "metadata": {},
     "output_type": "execute_result"
    }
   ],
   "source": [
    "all_weights = tf.trainable_variables()\n",
    "tf.trainable_variables()"
   ]
  },
  {
   "cell_type": "code",
   "execution_count": 12,
   "metadata": {
    "collapsed": true
   },
   "outputs": [],
   "source": [
    "param_w1 = sess.run(all_weights[0])\n",
    "param_b1 = sess.run(all_weights[1])\n",
    "param_w2 = sess.run(all_weights[2])\n",
    "param_b2 = sess.run(all_weights[3])"
   ]
  },
  {
   "cell_type": "code",
   "execution_count": 13,
   "metadata": {},
   "outputs": [
    {
     "data": {
      "image/png": "[encoded data removed]",
      "text/plain": [
       "<matplotlib.figure.Figure at 0x11d132ef0>"
      ]
     },
     "metadata": {},
     "output_type": "display_data"
    }
   ],
   "source": [
    "import matplotlib.pyplot as plt\n",
    "\n",
    "width = 12\n",
    "height = 9\n",
    "fig= plt.figure(figsize=(width, height))\n",
    "\n",
    "plt.subplot(2, 2, 1)\n",
    "plt.hist(np.reshape(param_w1, [16,1]))  # arguments are passed to np.histogram\n",
    "plt.title(\"Histogram param_w1\")\n",
    "\n",
    "plt.subplot(2, 2, 2)\n",
    "plt.hist(param_b1)  # arguments are passed to np.histogram\n",
    "plt.title(\"Histogram param_b1\")\n",
    "\n",
    "plt.subplot(2, 2, 3)\n",
    "plt.hist(np.reshape(param_w2, [104,1]))  # arguments are passed to np.histogram\n",
    "plt.title(\"Histogram param_w2\")\n",
    "\n",
    "plt.subplot(2, 2, 4)\n",
    "plt.hist(param_b2)  # arguments are passed to np.histogram\n",
    "plt.title(\"Histogram param_b2\")\n",
    "\n",
    "plt.show()"
   ]
  },
  {
   "cell_type": "code",
   "execution_count": 14,
   "metadata": {},
   "outputs": [
    {
     "name": "stdout",
     "output_type": "stream",
     "text": [
      "-3.61162 55.1345\n",
      "0.389684 41.2484\n",
      "-45.6807 2.5121\n",
      "-28.6893 22.2241\n"
     ]
    }
   ],
   "source": [
    "print(np.min(param_w1), np.max(param_w1))\n",
    "print(np.min(param_b1), np.max(param_b1))\n",
    "print(np.min(param_w2), np.max(param_w2))\n",
    "print(np.min(param_b2), np.max(param_b2))"
   ]
  },
  {
   "cell_type": "code",
   "execution_count": 15,
   "metadata": {
    "scrolled": false
   },
   "outputs": [],
   "source": [
    "inter_v1, inter_v2 = sess.run([y1, y], feed_dict=feed_dict1)"
   ]
  },
  {
   "cell_type": "code",
   "execution_count": 16,
   "metadata": {},
   "outputs": [
    {
     "name": "stdout",
     "output_type": "stream",
     "text": [
      "(26, 4)\n",
      "(26, 26)\n"
     ]
    }
   ],
   "source": [
    "print(inter_v1.shape)\n",
    "print(inter_v2.shape)"
   ]
  },
  {
   "cell_type": "code",
   "execution_count": 17,
   "metadata": {},
   "outputs": [
    {
     "data": {
      "image/png": "[encoded data removed]",
      "text/plain": [
       "<matplotlib.figure.Figure at 0x11d132908>"
      ]
     },
     "metadata": {},
     "output_type": "display_data"
    }
   ],
   "source": [
    "width = 12\n",
    "height = 4\n",
    "fig2= plt.figure(figsize=(width, height))\n",
    "\n",
    "plt.subplot(1, 2, 1)\n",
    "plt.hist(np.reshape((inter_v1),[104,1])) # arguments are passed to np.histogram\n",
    "plt.title(\"Histogram param_w1\")\n",
    "\n",
    "plt.subplot(1, 2, 2)\n",
    "plt.hist(np.reshape((inter_v2),[676,1]))  # arguments are passed to np.histogram\n",
    "plt.title(\"Histogram param_b1\")\n",
    "\n",
    "plt.show()"
   ]
  },
  {
   "cell_type": "code",
   "execution_count": 18,
   "metadata": {},
   "outputs": [
    {
     "name": "stdout",
     "output_type": "stream",
     "text": [
      "0.0 448.553\n",
      "-30329.6 -5373.14\n"
     ]
    }
   ],
   "source": [
    "print(np.min(inter_v1), np.max(inter_v1))\n",
    "print(np.min(inter_v2), np.max(inter_v2))"
   ]
  },
  {
   "cell_type": "markdown",
   "metadata": {},
   "source": [
    "# Quantization of Values (weights & result) "
   ]
  },
  {
   "cell_type": "code",
   "execution_count": 55,
   "metadata": {},
   "outputs": [
    {
     "name": "stdout",
     "output_type": "stream",
     "text": [
      "256\n"
     ]
    }
   ],
   "source": [
    "num_bits = 8\n",
    "total_interval = 2**num_bits\n",
    "print(total_interval)"
   ]
  },
  {
   "cell_type": "code",
   "execution_count": 56,
   "metadata": {},
   "outputs": [
    {
     "name": "stdout",
     "output_type": "stream",
     "text": [
      "-45.6807 55.1345\n"
     ]
    }
   ],
   "source": [
    "# min_value = np.min([np.min(param_w1), np.min(param_w2), np.min(param_b1), \n",
    "#                     np.min(param_b2), np.min(inter_v1), np.min(inter_v2)])\n",
    "# max_value = np.max([np.max(param_w1), np.max(param_w2), np.max(param_b1), \n",
    "#                     np.max(param_b2), np.max(inter_v1), np.max(inter_v2)])\n",
    "min_value = np.min([np.min(param_w1), np.min(param_w2), np.min(param_b1), np.min(param_b2) ])\n",
    "max_value = np.max([np.max(param_w1), np.max(param_w2), np.max(param_b1), np.max(param_b2) ])\n",
    "\n",
    "print(min_value, max_value)"
   ]
  },
  {
   "cell_type": "code",
   "execution_count": 57,
   "metadata": {},
   "outputs": [
    {
     "name": "stdout",
     "output_type": "stream",
     "text": [
      "0.393809348345\n"
     ]
    }
   ],
   "source": [
    "interval = (max_value - min_value)/total_interval\n",
    "print(interval)"
   ]
  },
  {
   "cell_type": "code",
   "execution_count": 58,
   "metadata": {
    "collapsed": true
   },
   "outputs": [],
   "source": [
    "q_p_w1 = ( (param_w1)/interval ).astype(int)\n",
    "q_p_b1 = ( (param_b1)/interval ).astype(int)\n",
    "q_p_w2 = ( (param_w2)/interval ).astype(int)\n",
    "q_p_b2 = ( (param_b2)/interval ).astype(int)\n"
   ]
  },
  {
   "cell_type": "markdown",
   "metadata": {},
   "source": [
    "# Inference of Neural Net "
   ]
  },
  {
   "cell_type": "code",
   "execution_count": 59,
   "metadata": {
    "collapsed": true
   },
   "outputs": [],
   "source": [
    "W1 = tf.Variable(tf.random_normal([4, 4]))\n",
    "b1 = tf.Variable(tf.random_normal([4]))\n",
    "y1 = tf.nn.relu(tf.matmul(x, W1) + b1)\n",
    "\n",
    "W2 = tf.Variable(tf.random_normal([4, 26]))\n",
    "b2 = tf.Variable(tf.random_normal([26]))\n",
    "\n",
    "y = (tf.matmul(y1, W2) + b2)"
   ]
  },
  {
   "cell_type": "code",
   "execution_count": 60,
   "metadata": {
    "collapsed": true
   },
   "outputs": [],
   "source": [
    "y1_inference = np.matmul(code, q_p_w1 )+q_p_b1"
   ]
  },
  {
   "cell_type": "code",
   "execution_count": 61,
   "metadata": {
    "collapsed": true
   },
   "outputs": [],
   "source": [
    "y1_inference_relu = (y1_inference>0 ) * y1_inference"
   ]
  },
  {
   "cell_type": "code",
   "execution_count": 62,
   "metadata": {
    "collapsed": true
   },
   "outputs": [],
   "source": [
    "y2_inference = np.matmul(y1_inference_relu, q_p_w2 )+q_p_b2"
   ]
  },
  {
   "cell_type": "code",
   "execution_count": 63,
   "metadata": {
    "scrolled": true
   },
   "outputs": [
    {
     "data": {
      "text/plain": [
       "array([17,  1,  5,  1, 19,  5, 17,  5, 12,  5,  5, 17, 12, 19, 17,  5,  5,\n",
       "       17,  5, 19,  5, 21, 15, 23,  5, 25])"
      ]
     },
     "execution_count": 63,
     "metadata": {},
     "output_type": "execute_result"
    }
   ],
   "source": [
    "np.argmax(y2_inference, axis=1)"
   ]
  }
 ],
 "metadata": {
  "kernelspec": {
   "display_name": "Python 3",
   "language": "python",
   "name": "python3"
  },
  "language_info": {
   "codemirror_mode": {
    "name": "ipython",
    "version": 3
   },
   "file_extension": ".py",
   "mimetype": "text/x-python",
   "name": "python",
   "nbconvert_exporter": "python",
   "pygments_lexer": "ipython3",
   "version": "3.6.1"
  }
 },
 "nbformat": 4,
 "nbformat_minor": 2
}
