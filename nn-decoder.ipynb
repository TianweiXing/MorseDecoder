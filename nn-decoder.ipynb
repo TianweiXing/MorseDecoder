{
 "cells": [
  {
   "cell_type": "code",
   "execution_count": 1,
   "metadata": {
    "collapsed": true
   },
   "outputs": [],
   "source": [
    "import numpy as np\n",
    "import tensorflow as tf\n",
    "\n",
    "from numpy import genfromtxt\n",
    "my_data = genfromtxt('data.csv', delimiter=',')"
   ]
  },
  {
   "cell_type": "code",
   "execution_count": 2,
   "metadata": {
    "collapsed": false
   },
   "outputs": [
    {
     "data": {
      "text/plain": [
       "array([[  1.,   3.,   0.,   0.,   0.],\n",
       "       [  3.,   1.,   1.,   1.,   1.],\n",
       "       [  3.,   1.,   3.,   1.,   2.],\n",
       "       [  3.,   1.,   1.,   0.,   3.],\n",
       "       [  1.,   0.,   0.,   0.,   4.],\n",
       "       [  1.,   1.,   3.,   1.,   5.],\n",
       "       [  3.,   3.,   1.,   0.,   6.],\n",
       "       [  1.,   1.,   1.,   1.,   7.],\n",
       "       [  1.,   1.,   0.,   0.,   8.],\n",
       "       [  1.,   3.,   3.,   3.,   9.],\n",
       "       [  3.,   1.,   3.,   0.,  10.],\n",
       "       [  1.,   3.,   1.,   1.,  11.],\n",
       "       [  3.,   3.,   0.,   0.,  12.],\n",
       "       [  3.,   1.,   0.,   0.,  13.],\n",
       "       [  3.,   3.,   3.,   0.,  14.],\n",
       "       [  1.,   3.,   3.,   1.,  15.],\n",
       "       [  3.,   3.,   1.,   3.,  16.],\n",
       "       [  1.,   3.,   1.,   0.,  17.],\n",
       "       [  1.,   1.,   1.,   0.,  18.],\n",
       "       [  3.,   0.,   0.,   0.,  19.],\n",
       "       [  1.,   1.,   3.,   0.,  20.],\n",
       "       [  1.,   1.,   1.,   3.,  21.],\n",
       "       [  1.,   3.,   3.,   0.,  22.],\n",
       "       [  3.,   1.,   1.,   3.,  23.],\n",
       "       [  3.,   1.,   3.,   3.,  24.],\n",
       "       [  3.,   3.,   1.,   1.,  25.]])"
      ]
     },
     "execution_count": 2,
     "metadata": {},
     "output_type": "execute_result"
    }
   ],
   "source": [
    "my_data"
   ]
  },
  {
   "cell_type": "code",
   "execution_count": 3,
   "metadata": {
    "collapsed": true
   },
   "outputs": [],
   "source": [
    "code = my_data[:,0:4]\n",
    "label = my_data[:, 4]"
   ]
  },
  {
   "cell_type": "code",
   "execution_count": 4,
   "metadata": {
    "collapsed": true
   },
   "outputs": [],
   "source": [
    "sess = tf.InteractiveSession()"
   ]
  },
  {
   "cell_type": "code",
   "execution_count": 5,
   "metadata": {
    "collapsed": true
   },
   "outputs": [],
   "source": [
    "one_hot_label = tf.one_hot(label, 26, 1, 0, -1)\n",
    "one_hot_label = sess.run(one_hot_label)"
   ]
  },
  {
   "cell_type": "code",
   "execution_count": 6,
   "metadata": {
    "collapsed": true
   },
   "outputs": [],
   "source": [
    "x = tf.placeholder(tf.float32, [None, 4])\n",
    "y_ = tf.placeholder(tf.float32, [None, 26])\n",
    "feed_dict1 = {\n",
    "    x: code,\n",
    "    y_: one_hot_label,\n",
    "}"
   ]
  },
  {
   "cell_type": "code",
   "execution_count": 7,
   "metadata": {
    "collapsed": true
   },
   "outputs": [],
   "source": [
    "W1 = tf.Variable(tf.random_normal([4, 10]))\n",
    "b1 = tf.Variable(tf.random_normal([10]))\n",
    "y1 = tf.nn.relu(tf.matmul(x, W1) + b1)\n",
    "\n",
    "W2 = tf.Variable(tf.random_normal([10, 26]))\n",
    "b2 = tf.Variable(tf.random_normal([26]))\n",
    "\n",
    "y = (tf.matmul(y1, W2) + b2)\n"
   ]
  },
  {
   "cell_type": "code",
   "execution_count": 8,
   "metadata": {
    "collapsed": true,
    "scrolled": false
   },
   "outputs": [],
   "source": [
    "correct_prediction = tf.equal(tf.argmax(y,1), tf.argmax(y_,1))\n",
    "accuracy = tf.reduce_mean(tf.cast(correct_prediction, tf.float32))\n",
    "\n",
    "loss = tf.reduce_mean(tf.nn.softmax_cross_entropy_with_logits(logits = y, labels = y_))\n",
    "# train_step  = tf.train.GradientDescentOptimizer(learning_rate).minimize(loss)\n",
    "train_step  = tf.train.AdamOptimizer().minimize(loss)\n",
    "\n",
    "# cross_entropy = tf.reduce_mean(-tf.reduce_sum(y_ * tf.log(y), reduction_indices=[1]))\n",
    "# train_step = tf.train.GradientDescentOptimizer(0.5).minimize(cross_entropy)"
   ]
  },
  {
   "cell_type": "code",
   "execution_count": 9,
   "metadata": {
    "collapsed": true
   },
   "outputs": [],
   "source": [
    "tf.global_variables_initializer().run()"
   ]
  },
  {
   "cell_type": "code",
   "execution_count": 10,
   "metadata": {
    "collapsed": false,
    "scrolled": false
   },
   "outputs": [
    {
     "name": "stdout",
     "output_type": "stream",
     "text": [
      "loss:  11.6628 , acc:  0.0\n",
      "loss:  1.74176 , acc:  0.461538\n",
      "loss:  0.452403 , acc:  0.923077\n",
      "loss:  0.110776 , acc:  1.0\n",
      "loss:  0.0324373 , acc:  1.0\n",
      "loss:  0.0129406 , acc:  1.0\n",
      "loss:  0.00605523 , acc:  1.0\n",
      "loss:  0.00305945 , acc:  1.0\n",
      "loss:  0.00159936 , acc:  1.0\n",
      "loss:  0.000821932 , acc:  1.0\n",
      "loss:  0.000410262 , acc:  1.0\n",
      "loss:  0.000215079 , acc:  1.0\n",
      "loss:  0.00011705 , acc:  1.0\n",
      "loss:  6.60392e-05 , acc:  1.0\n",
      "loss:  3.78022e-05 , acc:  1.0\n",
      "loss:  2.17095e-05 , acc:  1.0\n",
      "loss:  1.2549e-05 , acc:  1.0\n",
      "loss:  7.34509e-06 , acc:  1.0\n",
      "loss:  4.27777e-06 , acc:  1.0\n",
      "loss:  2.48964e-06 , acc:  1.0\n"
     ]
    }
   ],
   "source": [
    "for i in range(20000):\n",
    "#     batch_xs, batch_ys = mnist.train.next_batch(100)\n",
    "#     sess.run(train_step, feed_dict={x: batch_xs, y_: batch_ys})\n",
    "    _,acc_val,loss_val = sess.run([train_step, accuracy, loss], feed_dict=feed_dict1)\n",
    "    if i % 1000 == 0:\n",
    "        print('loss: ',loss_val, ', acc: ', acc_val)\n"
   ]
  },
  {
   "cell_type": "markdown",
   "metadata": {},
   "source": [
    "# Values histogram analysis "
   ]
  },
  {
   "cell_type": "code",
   "execution_count": 11,
   "metadata": {
    "collapsed": false
   },
   "outputs": [
    {
     "data": {
      "text/plain": [
       "[<tf.Variable 'Variable:0' shape=(4, 10) dtype=float32_ref>,\n",
       " <tf.Variable 'Variable_1:0' shape=(10,) dtype=float32_ref>,\n",
       " <tf.Variable 'Variable_2:0' shape=(10, 26) dtype=float32_ref>,\n",
       " <tf.Variable 'Variable_3:0' shape=(26,) dtype=float32_ref>]"
      ]
     },
     "execution_count": 11,
     "metadata": {},
     "output_type": "execute_result"
    }
   ],
   "source": [
    "all_weights = tf.trainable_variables()\n",
    "tf.trainable_variables()"
   ]
  },
  {
   "cell_type": "code",
   "execution_count": 12,
   "metadata": {
    "collapsed": true
   },
   "outputs": [],
   "source": [
    "param_w1 = sess.run(all_weights[0])\n",
    "param_b1 = sess.run(all_weights[1])\n",
    "param_w2 = sess.run(all_weights[2])\n",
    "param_b2 = sess.run(all_weights[3])"
   ]
  },
  {
   "cell_type": "code",
   "execution_count": 13,
   "metadata": {
    "collapsed": false
   },
   "outputs": [
    {
     "data": {
      "image/png": "[encoded data removed]",
      "text/plain": [
       "<matplotlib.figure.Figure at 0x7fe2e44724a8>"
      ]
     },
     "metadata": {},
     "output_type": "display_data"
    }
   ],
   "source": [
    "import matplotlib.pyplot as plt\n",
    "\n",
    "width = 12\n",
    "height = 9\n",
    "fig= plt.figure(figsize=(width, height))\n",
    "\n",
    "plt.subplot(2, 2, 1)\n",
    "plt.hist(np.reshape(param_w1, [40,1]))  # arguments are passed to np.histogram\n",
    "plt.title(\"Histogram param_w1\")\n",
    "\n",
    "plt.subplot(2, 2, 2)\n",
    "plt.hist(param_b1)  # arguments are passed to np.histogram\n",
    "plt.title(\"Histogram param_b1\")\n",
    "\n",
    "plt.subplot(2, 2, 3)\n",
    "plt.hist(np.reshape(param_w2, [260,1]))  # arguments are passed to np.histogram\n",
    "plt.title(\"Histogram param_w2\")\n",
    "\n",
    "plt.subplot(2, 2, 4)\n",
    "plt.hist(param_b2)  # arguments are passed to np.histogram\n",
    "plt.title(\"Histogram param_b2\")\n",
    "\n",
    "plt.show()"
   ]
  },
  {
   "cell_type": "code",
   "execution_count": 14,
   "metadata": {
    "collapsed": false
   },
   "outputs": [
    {
     "name": "stdout",
     "output_type": "stream",
     "text": [
      "-5.89352 3.11946\n",
      "-2.13696 3.83816\n",
      "-10.3991 5.38759\n",
      "-3.59872 3.49344\n"
     ]
    }
   ],
   "source": [
    "print(np.min(param_w1), np.max(param_w1))\n",
    "print(np.min(param_b1), np.max(param_b1))\n",
    "print(np.min(param_w2), np.max(param_w2))\n",
    "print(np.min(param_b2), np.max(param_b2))"
   ]
  },
  {
   "cell_type": "code",
   "execution_count": 15,
   "metadata": {
    "collapsed": true,
    "scrolled": false
   },
   "outputs": [],
   "source": [
    "inter_v1, inter_v2 = sess.run([y1, y], feed_dict=feed_dict1)"
   ]
  },
  {
   "cell_type": "code",
   "execution_count": 16,
   "metadata": {
    "collapsed": false
   },
   "outputs": [
    {
     "name": "stdout",
     "output_type": "stream",
     "text": [
      "(26, 10)\n",
      "(26, 26)\n"
     ]
    }
   ],
   "source": [
    "print(inter_v1.shape)\n",
    "print(inter_v2.shape)"
   ]
  },
  {
   "cell_type": "code",
   "execution_count": 17,
   "metadata": {
    "collapsed": false
   },
   "outputs": [
    {
     "data": {
      "image/png": "[encoded data removed]",
      "text/plain": [
       "<matplotlib.figure.Figure at 0x7fe2e445fc88>"
      ]
     },
     "metadata": {},
     "output_type": "display_data"
    }
   ],
   "source": [
    "width = 12\n",
    "height = 4\n",
    "fig2= plt.figure(figsize=(width, height))\n",
    "\n",
    "plt.subplot(1, 2, 1)\n",
    "plt.hist(np.reshape((inter_v1),[260,1])) # arguments are passed to np.histogram\n",
    "plt.title(\"Histogram param_w1\")\n",
    "\n",
    "plt.subplot(1, 2, 2)\n",
    "plt.hist(np.reshape((inter_v2),[676,1]))  # arguments are passed to np.histogram\n",
    "plt.title(\"Histogram param_b1\")\n",
    "\n",
    "plt.show()"
   ]
  },
  {
   "cell_type": "code",
   "execution_count": 18,
   "metadata": {
    "collapsed": false
   },
   "outputs": [
    {
     "name": "stdout",
     "output_type": "stream",
     "text": [
      "0.0 13.2486\n",
      "-122.681 38.8504\n"
     ]
    }
   ],
   "source": [
    "print(np.min(inter_v1), np.max(inter_v1))\n",
    "print(np.min(inter_v2), np.max(inter_v2))"
   ]
  },
  {
   "cell_type": "markdown",
   "metadata": {},
   "source": [
    "# Quantization of Values (weights & result) "
   ]
  },
  {
   "cell_type": "code",
   "execution_count": 66,
   "metadata": {
    "collapsed": false
   },
   "outputs": [
    {
     "name": "stdout",
     "output_type": "stream",
     "text": [
      "64\n"
     ]
    }
   ],
   "source": [
    "num_bits = 6\n",
    "total_interval = 2**num_bits\n",
    "print(total_interval)"
   ]
  },
  {
   "cell_type": "code",
   "execution_count": 67,
   "metadata": {
    "collapsed": false
   },
   "outputs": [
    {
     "name": "stdout",
     "output_type": "stream",
     "text": [
      "-10.3991 5.38759\n"
     ]
    }
   ],
   "source": [
    "# min_value = np.min([np.min(param_w1), np.min(param_w2), np.min(param_b1), \n",
    "#                     np.min(param_b2), np.min(inter_v1), np.min(inter_v2)])\n",
    "# max_value = np.max([np.max(param_w1), np.max(param_w2), np.max(param_b1), \n",
    "#                     np.max(param_b2), np.max(inter_v1), np.max(inter_v2)])\n",
    "min_value = np.min([np.min(param_w1), np.min(param_w2), np.min(param_b1), np.min(param_b2) ])\n",
    "max_value = np.max([np.max(param_w1), np.max(param_w2), np.max(param_b1), np.max(param_b2) ])\n",
    "\n",
    "print(min_value, max_value)"
   ]
  },
  {
   "cell_type": "code",
   "execution_count": 68,
   "metadata": {
    "collapsed": false
   },
   "outputs": [
    {
     "name": "stdout",
     "output_type": "stream",
     "text": [
      "0.246667161584\n"
     ]
    }
   ],
   "source": [
    "interval = (max_value - min_value)/total_interval\n",
    "print(interval)"
   ]
  },
  {
   "cell_type": "code",
   "execution_count": 69,
   "metadata": {
    "collapsed": true
   },
   "outputs": [],
   "source": [
    "q_p_w1 = ( (param_w1)/interval ).astype(int)\n",
    "q_p_b1 = ( (param_b1)/interval ).astype(int)\n",
    "q_p_w2 = ( (param_w2)/interval ).astype(int)\n",
    "q_p_b2 = ( (param_b2)/interval ).astype(int)\n"
   ]
  },
  {
   "cell_type": "markdown",
   "metadata": {},
   "source": [
    "# Inference of Neural Net "
   ]
  },
  {
   "cell_type": "code",
   "execution_count": 70,
   "metadata": {
    "collapsed": true
   },
   "outputs": [],
   "source": [
    "W1 = tf.Variable(tf.random_normal([4, 10]))\n",
    "b1 = tf.Variable(tf.random_normal([10]))\n",
    "y1 = tf.nn.relu(tf.matmul(x, W1) + b1)\n",
    "\n",
    "W2 = tf.Variable(tf.random_normal([10, 26]))\n",
    "b2 = tf.Variable(tf.random_normal([26]))\n",
    "\n",
    "y = (tf.matmul(y1, W2) + b2)"
   ]
  },
  {
   "cell_type": "code",
   "execution_count": 71,
   "metadata": {
    "collapsed": false
   },
   "outputs": [],
   "source": [
    "y1_inference = np.matmul(code, q_p_w1 )+q_p_b1"
   ]
  },
  {
   "cell_type": "code",
   "execution_count": 72,
   "metadata": {
    "collapsed": false
   },
   "outputs": [],
   "source": [
    "y1_inference_relu = (y1_inference>0 ) * y1_inference"
   ]
  },
  {
   "cell_type": "code",
   "execution_count": 73,
   "metadata": {
    "collapsed": true
   },
   "outputs": [],
   "source": [
    "y2_inference = np.matmul(y1_inference_relu, q_p_w2 )+q_p_b2"
   ]
  },
  {
   "cell_type": "code",
   "execution_count": 74,
   "metadata": {
    "collapsed": false,
    "scrolled": true
   },
   "outputs": [
    {
     "data": {
      "text/plain": [
       "array([ 0,  1,  2,  3,  4,  5,  6,  7,  8,  9, 10, 11, 12, 13, 14, 15, 16,\n",
       "       17, 18, 19, 20, 21, 22, 23, 24, 25])"
      ]
     },
     "execution_count": 74,
     "metadata": {},
     "output_type": "execute_result"
    }
   ],
   "source": [
    "np.argmax(y2_inference, axis=1)"
   ]
  }
 ],
 "metadata": {
  "kernelspec": {
   "display_name": "Python 3",
   "language": "python",
   "name": "python3"
  },
  "language_info": {
   "codemirror_mode": {
    "name": "ipython",
    "version": 3
   },
   "file_extension": ".py",
   "mimetype": "text/x-python",
   "name": "python",
   "nbconvert_exporter": "python",
   "pygments_lexer": "ipython3",
   "version": "3.6.0"
  }
 },
 "nbformat": 4,
 "nbformat_minor": 2
}
