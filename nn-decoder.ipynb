{
 "cells": [
  {
   "cell_type": "code",
   "execution_count": 5,
   "metadata": {
    "collapsed": true
   },
   "outputs": [],
   "source": [
    "import numpy as np\n",
    "import tensorflow as tf\n",
    "\n",
    "from numpy import genfromtxt\n",
    "my_data = genfromtxt('data.csv', delimiter=',')"
   ]
  },
  {
   "cell_type": "code",
   "execution_count": 6,
   "metadata": {},
   "outputs": [
    {
     "data": {
      "text/plain": [
       "array([[  1.,   3.,   0.,   0.,   0.],\n",
       "       [  3.,   1.,   1.,   1.,   1.],\n",
       "       [  3.,   1.,   3.,   1.,   2.],\n",
       "       [  3.,   1.,   1.,   0.,   3.],\n",
       "       [  1.,   0.,   0.,   0.,   4.],\n",
       "       [  1.,   1.,   3.,   1.,   5.],\n",
       "       [  3.,   3.,   1.,   0.,   6.],\n",
       "       [  1.,   1.,   1.,   1.,   7.],\n",
       "       [  1.,   1.,   0.,   0.,   8.],\n",
       "       [  1.,   3.,   3.,   3.,   9.],\n",
       "       [  3.,   1.,   3.,   0.,  10.],\n",
       "       [  1.,   3.,   1.,   1.,  11.],\n",
       "       [  3.,   3.,   0.,   0.,  12.],\n",
       "       [  3.,   1.,   0.,   0.,  13.],\n",
       "       [  3.,   3.,   3.,   0.,  14.],\n",
       "       [  1.,   3.,   3.,   1.,  15.],\n",
       "       [  3.,   3.,   1.,   3.,  16.],\n",
       "       [  1.,   3.,   1.,   0.,  17.],\n",
       "       [  1.,   1.,   1.,   0.,  18.],\n",
       "       [  3.,   0.,   0.,   0.,  19.],\n",
       "       [  1.,   1.,   3.,   0.,  20.],\n",
       "       [  1.,   1.,   1.,   3.,  21.],\n",
       "       [  1.,   3.,   3.,   0.,  22.],\n",
       "       [  3.,   1.,   1.,   3.,  23.],\n",
       "       [  3.,   1.,   3.,   3.,  24.],\n",
       "       [  3.,   3.,   1.,   1.,  25.]])"
      ]
     },
     "execution_count": 6,
     "metadata": {},
     "output_type": "execute_result"
    }
   ],
   "source": [
    "my_data"
   ]
  },
  {
   "cell_type": "code",
   "execution_count": 7,
   "metadata": {
    "collapsed": true
   },
   "outputs": [],
   "source": [
    "code = my_data[:,0:4]\n",
    "label = my_data[:, 4]"
   ]
  },
  {
   "cell_type": "code",
   "execution_count": 8,
   "metadata": {
    "collapsed": true
   },
   "outputs": [],
   "source": [
    "sess = tf.InteractiveSession()"
   ]
  },
  {
   "cell_type": "code",
   "execution_count": 9,
   "metadata": {
    "collapsed": true
   },
   "outputs": [],
   "source": [
    "one_hot_label = tf.one_hot(label, 26, 1, 0, -1)\n",
    "one_hot_label = sess.run(one_hot_label)"
   ]
  },
  {
   "cell_type": "code",
   "execution_count": 10,
   "metadata": {
    "collapsed": true
   },
   "outputs": [],
   "source": [
    "x = tf.placeholder(tf.float32, [None, 4])\n",
    "y_ = tf.placeholder(tf.float32, [None, 26])\n",
    "feed_dict1 = {\n",
    "    x: code,\n",
    "    y_: one_hot_label,\n",
    "}"
   ]
  },
  {
   "cell_type": "code",
   "execution_count": 11,
   "metadata": {
    "collapsed": true
   },
   "outputs": [],
   "source": [
    "W1 = tf.Variable(tf.random_normal([4, 10]))\n",
    "b1 = tf.Variable(tf.random_normal([10]))\n",
    "y1 = tf.nn.relu(tf.matmul(x, W1) + b1)\n",
    "\n",
    "W2 = tf.Variable(tf.random_normal([10, 26]))\n",
    "b2 = tf.Variable(tf.random_normal([26]))\n",
    "\n",
    "y = (tf.matmul(y1, W2) + b2)\n"
   ]
  },
  {
   "cell_type": "code",
   "execution_count": 12,
   "metadata": {
    "collapsed": true,
    "scrolled": false
   },
   "outputs": [],
   "source": [
    "correct_prediction = tf.equal(tf.argmax(y,1), tf.argmax(y_,1))\n",
    "accuracy = tf.reduce_mean(tf.cast(correct_prediction, tf.float32))\n",
    "\n",
    "loss = tf.reduce_mean(tf.nn.softmax_cross_entropy_with_logits(logits = y, labels = y_))\n",
    "# train_step  = tf.train.GradientDescentOptimizer(learning_rate).minimize(loss)\n",
    "train_step  = tf.train.AdamOptimizer().minimize(loss)\n",
    "\n",
    "# cross_entropy = tf.reduce_mean(-tf.reduce_sum(y_ * tf.log(y), reduction_indices=[1]))\n",
    "# train_step = tf.train.GradientDescentOptimizer(0.5).minimize(cross_entropy)"
   ]
  },
  {
   "cell_type": "code",
   "execution_count": 13,
   "metadata": {
    "collapsed": true
   },
   "outputs": [],
   "source": [
    "tf.global_variables_initializer().run()"
   ]
  },
  {
   "cell_type": "code",
   "execution_count": 14,
   "metadata": {
    "scrolled": false
   },
   "outputs": [
    {
     "name": "stdout",
     "output_type": "stream",
     "text": [
      "loss:  9.19252 , acc:  0.115385\n",
      "loss:  1.56151 , acc:  0.576923\n",
      "loss:  0.517429 , acc:  0.884615\n",
      "loss:  0.0910217 , acc:  1.0\n",
      "loss:  0.0259629 , acc:  1.0\n",
      "loss:  0.0103069 , acc:  1.0\n",
      "loss:  0.00470531 , acc:  1.0\n",
      "loss:  0.00231277 , acc:  1.0\n",
      "loss:  0.00117884 , acc:  1.0\n",
      "loss:  0.000601575 , acc:  1.0\n"
     ]
    }
   ],
   "source": [
    "for i in range(10000):\n",
    "#     batch_xs, batch_ys = mnist.train.next_batch(100)\n",
    "#     sess.run(train_step, feed_dict={x: batch_xs, y_: batch_ys})\n",
    "    _,acc_val,loss_val = sess.run([train_step, accuracy, loss], feed_dict=feed_dict1)\n",
    "    if i % 1000 == 0:\n",
    "        print('loss: ',loss_val, ', acc: ', acc_val)\n"
   ]
  },
  {
   "cell_type": "markdown",
   "metadata": {},
   "source": [
    "# Values histogram analysis "
   ]
  },
  {
   "cell_type": "code",
   "execution_count": 15,
   "metadata": {},
   "outputs": [
    {
     "data": {
      "text/plain": [
       "[<tf.Variable 'Variable:0' shape=(4, 10) dtype=float32_ref>,\n",
       " <tf.Variable 'Variable_1:0' shape=(10,) dtype=float32_ref>,\n",
       " <tf.Variable 'Variable_2:0' shape=(10, 26) dtype=float32_ref>,\n",
       " <tf.Variable 'Variable_3:0' shape=(26,) dtype=float32_ref>]"
      ]
     },
     "execution_count": 15,
     "metadata": {},
     "output_type": "execute_result"
    }
   ],
   "source": [
    "all_weights = tf.trainable_variables()\n",
    "tf.trainable_variables()"
   ]
  },
  {
   "cell_type": "code",
   "execution_count": 16,
   "metadata": {
    "collapsed": true
   },
   "outputs": [],
   "source": [
    "param_w1 = sess.run(all_weights[0])\n",
    "param_b1 = sess.run(all_weights[1])\n",
    "param_w2 = sess.run(all_weights[2])\n",
    "param_b2 = sess.run(all_weights[3])"
   ]
  },
  {
   "cell_type": "code",
   "execution_count": 40,
   "metadata": {},
   "outputs": [
    {
     "data": {
      "image/png": "[encoded data removed]",
      "text/plain": [
       "<matplotlib.figure.Figure at 0x11cfe8128>"
      ]
     },
     "metadata": {},
     "output_type": "display_data"
    }
   ],
   "source": [
    "import matplotlib.pyplot as plt\n",
    "\n",
    "width = 12\n",
    "height = 9\n",
    "fig= plt.figure(figsize=(width, height))\n",
    "\n",
    "plt.subplot(2, 2, 1)\n",
    "plt.hist(np.reshape(param_w1, [40,1]))  # arguments are passed to np.histogram\n",
    "plt.title(\"Histogram param_w1\")\n",
    "\n",
    "plt.subplot(2, 2, 2)\n",
    "plt.hist(param_b1)  # arguments are passed to np.histogram\n",
    "plt.title(\"Histogram param_b1\")\n",
    "\n",
    "plt.subplot(2, 2, 3)\n",
    "plt.hist(np.reshape(param_w2, [260,1]))  # arguments are passed to np.histogram\n",
    "plt.title(\"Histogram param_w2\")\n",
    "\n",
    "plt.subplot(2, 2, 4)\n",
    "plt.hist(param_b2)  # arguments are passed to np.histogram\n",
    "plt.title(\"Histogram param_b2\")\n",
    "\n",
    "plt.show()"
   ]
  },
  {
   "cell_type": "code",
   "execution_count": 18,
   "metadata": {},
   "outputs": [
    {
     "name": "stdout",
     "output_type": "stream",
     "text": [
      "-4.51475 3.92832\n",
      "-1.6164 4.0454\n",
      "-6.53549 4.168\n",
      "-2.53244 2.25853\n"
     ]
    }
   ],
   "source": [
    "print(np.min(param_w1), np.max(param_w1))\n",
    "print(np.min(param_b1), np.max(param_b1))\n",
    "print(np.min(param_w2), np.max(param_w2))\n",
    "print(np.min(param_b2), np.max(param_b2))"
   ]
  },
  {
   "cell_type": "code",
   "execution_count": 19,
   "metadata": {
    "collapsed": true,
    "scrolled": false
   },
   "outputs": [],
   "source": [
    "inter_v1, inter_v2 = sess.run([y1, y], feed_dict=feed_dict1)"
   ]
  },
  {
   "cell_type": "code",
   "execution_count": 20,
   "metadata": {},
   "outputs": [
    {
     "name": "stdout",
     "output_type": "stream",
     "text": [
      "(26, 10)\n",
      "(26, 26)\n"
     ]
    }
   ],
   "source": [
    "print(inter_v1.shape)\n",
    "print(inter_v2.shape)"
   ]
  },
  {
   "cell_type": "code",
   "execution_count": 42,
   "metadata": {},
   "outputs": [
    {
     "data": {
      "image/png": "[encoded data removed]",
      "text/plain": [
       "<matplotlib.figure.Figure at 0x11cffbdd8>"
      ]
     },
     "metadata": {},
     "output_type": "display_data"
    }
   ],
   "source": [
    "width = 12\n",
    "height = 4\n",
    "fig2= plt.figure(figsize=(width, height))\n",
    "\n",
    "plt.subplot(1, 2, 1)\n",
    "plt.hist(np.reshape((inter_v1),[260,1])) # arguments are passed to np.histogram\n",
    "plt.title(\"Histogram param_w1\")\n",
    "\n",
    "plt.subplot(1, 2, 2)\n",
    "plt.hist(np.reshape((inter_v2),[676,1]))  # arguments are passed to np.histogram\n",
    "plt.title(\"Histogram param_b1\")\n",
    "\n",
    "plt.show()"
   ]
  },
  {
   "cell_type": "code",
   "execution_count": 30,
   "metadata": {},
   "outputs": [
    {
     "name": "stdout",
     "output_type": "stream",
     "text": [
      "0.0 14.0536\n",
      "-133.608 27.3912\n"
     ]
    }
   ],
   "source": [
    "print(np.min(inter_v1), np.max(inter_v1))\n",
    "print(np.min(inter_v2), np.max(inter_v2))"
   ]
  },
  {
   "cell_type": "markdown",
   "metadata": {},
   "source": [
    "# Quantization of Values (weights & result) "
   ]
  },
  {
   "cell_type": "code",
   "execution_count": 56,
   "metadata": {},
   "outputs": [
    {
     "name": "stdout",
     "output_type": "stream",
     "text": [
      "256\n"
     ]
    }
   ],
   "source": [
    "num_bits = 8\n",
    "total_interval = 2**num_bits\n",
    "print(total_interval)"
   ]
  },
  {
   "cell_type": "code",
   "execution_count": 57,
   "metadata": {},
   "outputs": [
    {
     "name": "stdout",
     "output_type": "stream",
     "text": [
      "-133.608 27.3912\n"
     ]
    }
   ],
   "source": [
    "min_value = np.min([np.min(param_w1), np.min(param_w2), np.min(param_b1), \n",
    "                    np.min(param_b2), np.min(inter_v1), np.min(inter_v2)])\n",
    "max_value = np.max([np.max(param_w1), np.max(param_w2), np.max(param_b1), \n",
    "                    np.max(param_b2), np.max(inter_v1), np.max(inter_v2)])\n",
    "\n",
    "print(min_value, max_value)"
   ]
  },
  {
   "cell_type": "code",
   "execution_count": 61,
   "metadata": {},
   "outputs": [
    {
     "name": "stdout",
     "output_type": "stream",
     "text": [
      "0.628901600838\n"
     ]
    }
   ],
   "source": [
    "interval = (max_value - min_value)/total_interval\n",
    "print(interval)"
   ]
  },
  {
   "cell_type": "code",
   "execution_count": 76,
   "metadata": {
    "scrolled": false
   },
   "outputs": [
    {
     "data": {
      "image/png": "[encoded data removed]",
      "text/plain": [
       "<matplotlib.figure.Figure at 0x11df904e0>"
      ]
     },
     "metadata": {},
     "output_type": "display_data"
    },
    {
     "name": "stdout",
     "output_type": "stream",
     "text": [
      "0.0 256.0\n"
     ]
    },
    {
     "data": {
      "image/png": "[encoded data removed]",
      "text/plain": [
       "<matplotlib.figure.Figure at 0x11de59160>"
      ]
     },
     "metadata": {},
     "output_type": "display_data"
    }
   ],
   "source": [
    "q_v2 = (inter_v2-min_value)/interval\n",
    "plt.hist(np.reshape((q_v2),[676,1]))\n",
    "plt.show()\n",
    "\n",
    "print(np.min(q_v2), np.max(q_v2))\n",
    "\n",
    "quantize_v2 = q_v2.astype(int)\n",
    "plt.hist(np.reshape((quantize_v2),[676,1])) \n",
    "plt.show()"
   ]
  },
  {
   "cell_type": "code",
   "execution_count": 77,
   "metadata": {
    "collapsed": true
   },
   "outputs": [],
   "source": [
    "q_p_w1 = ( (param_w1-min_value)/interval ).astype(int)\n",
    "q_p_b1 = ( (param_b1-min_value)/interval ).astype(int)\n",
    "q_p_w2 = ( (param_w2-min_value)/interval ).astype(int)\n",
    "q_p_b2 = ( (param_b2-min_value)/interval ).astype(int)\n"
   ]
  },
  {
   "cell_type": "markdown",
   "metadata": {},
   "source": [
    "# Inference of Neural Net "
   ]
  },
  {
   "cell_type": "code",
   "execution_count": 82,
   "metadata": {
    "collapsed": true
   },
   "outputs": [],
   "source": [
    "def relu_func(x):\n",
    "    if x >0:\n",
    "        y = x;\n",
    "    else:\n",
    "        y = 0;\n",
    "    return y"
   ]
  },
  {
   "cell_type": "code",
   "execution_count": 90,
   "metadata": {},
   "outputs": [
    {
     "data": {
      "text/plain": [
       "array([[ 1064.,  1061.,  1057.,  1056.,  1072.,  1058.,  1059.,  1054.,\n",
       "         1078.,  1072.],\n",
       "       [ 1487.,  1493.,  1480.,  1486.,  1488.,  1479.,  1491.,  1475.,\n",
       "         1483.,  1481.],\n",
       "       [ 1907.,  1917.,  1906.,  1916.,  1904.,  1901.,  1917.,  1895.,\n",
       "         1905.,  1891.],\n",
       "       [ 1272.,  1281.,  1268.,  1281.,  1278.,  1265.,  1274.,  1266.,\n",
       "         1273.,  1273.],\n",
       "       [  422.,   428.,   421.,   426.,   427.,   422.,   429.,   421.,\n",
       "          424.,   427.],\n",
       "       [ 1481.,  1487.,  1484.,  1486.,  1476.,  1481.,  1495.,  1471.,\n",
       "         1485.,  1465.],\n",
       "       [ 1700.,  1703.,  1692.,  1701.,  1708.,  1689.,  1694.,  1688.,\n",
       "         1709.,  1703.],\n",
       "       [ 1061.,  1063.,  1058.,  1056.,  1060.,  1059.,  1069.,  1051.,\n",
       "         1063.,  1055.],\n",
       "       [  636.,   639.,   633.,   636.,   642.,   634.,   639.,   632.,\n",
       "          642.,   642.],\n",
       "       [ 2339.,  2333.,  2332.,  2316.,  2326.,  2333.,  2349.,  2311.,\n",
       "         2341.,  2311.],\n",
       "       [ 1692.,  1705.,  1694.,  1711.,  1694.,  1687.,  1700.,  1686.,\n",
       "         1695.,  1683.],\n",
       "       [ 1489.,  1485.,  1482.,  1476.,  1490.,  1483.,  1489.,  1473.,\n",
       "         1499.,  1485.],\n",
       "       [ 1490.,  1491.,  1479.,  1486.,  1500.,  1478.,  1481.,  1478.,\n",
       "         1498.,  1498.],\n",
       "       [ 1062.,  1069.,  1055.,  1066.,  1070.,  1054.,  1061.,  1056.,\n",
       "         1062.,  1068.],\n",
       "       [ 2120.,  2127.,  2118.,  2131.,  2124.,  2111.,  2120.,  2108.,\n",
       "         2131.,  2113.],\n",
       "       [ 1909.,  1909.,  1908.,  1906.,  1906.,  1905.,  1915.,  1893.,\n",
       "         1921.,  1895.],\n",
       "       [ 2345.,  2339.,  2328.,  2316.,  2338.,  2331.,  2345.,  2315.,\n",
       "         2339.,  2327.],\n",
       "       [ 1274.,  1273.,  1270.,  1271.,  1280.,  1269.,  1272.,  1264.,\n",
       "         1289.,  1277.],\n",
       "       [  846.,   851.,   846.,   851.,   850.,   845.,   852.,   842.,\n",
       "          853.,   847.],\n",
       "       [  848.,   858.,   843.,   856.,   855.,   842.,   851.,   845.,\n",
       "          844.,   853.],\n",
       "       [ 1266.,  1275.,  1272.,  1281.,  1266.,  1267.,  1278.,  1262.,\n",
       "         1275.,  1257.],\n",
       "       [ 1491.,  1487.,  1482.,  1466.,  1480.,  1487.,  1503.,  1469.,\n",
       "         1483.,  1471.],\n",
       "       [ 1694.,  1697.,  1696.,  1701.,  1696.,  1691.,  1698.,  1684.,\n",
       "         1711.,  1687.],\n",
       "       [ 1917.,  1917.,  1904.,  1896.,  1908.,  1907.,  1925.,  1893.,\n",
       "         1903.,  1897.],\n",
       "       [ 2337.,  2341.,  2330.,  2326.,  2324.,  2329.,  2351.,  2313.,\n",
       "         2325.,  2307.],\n",
       "       [ 1915.,  1915.,  1904.,  1906.,  1918.,  1903.,  1911.,  1897.,\n",
       "         1919.,  1911.]])"
      ]
     },
     "execution_count": 90,
     "metadata": {},
     "output_type": "execute_result"
    }
   ],
   "source": [
    "np.dot(code , q_p_w1) + q_p_b1\n",
    "# ???relu how to work if every value >0"
   ]
  },
  {
   "cell_type": "code",
   "execution_count": null,
   "metadata": {
    "collapsed": true
   },
   "outputs": [],
   "source": []
  }
 ],
 "metadata": {
  "kernelspec": {
   "display_name": "Python 3",
   "language": "python",
   "name": "python3"
  },
  "language_info": {
   "codemirror_mode": {
    "name": "ipython",
    "version": 3
   },
   "file_extension": ".py",
   "mimetype": "text/x-python",
   "name": "python",
   "nbconvert_exporter": "python",
   "pygments_lexer": "ipython3",
   "version": "3.6.1"
  }
 },
 "nbformat": 4,
 "nbformat_minor": 2
}
