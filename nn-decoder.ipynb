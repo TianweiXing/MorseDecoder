{
 "cells": [
  {
   "cell_type": "code",
   "execution_count": 72,
   "metadata": {
    "collapsed": true
   },
   "outputs": [],
   "source": [
    "from numpy import genfromtxt\n",
    "my_data = genfromtxt('data.csv', delimiter=',')"
   ]
  },
  {
   "cell_type": "code",
   "execution_count": 73,
   "metadata": {},
   "outputs": [
    {
     "data": {
      "text/plain": [
       "array([[  1.,   3.,   0.,   0.,   0.],\n",
       "       [  3.,   1.,   1.,   1.,   1.],\n",
       "       [  3.,   1.,   3.,   1.,   2.],\n",
       "       [  3.,   1.,   1.,   0.,   3.],\n",
       "       [  1.,   0.,   0.,   0.,   4.],\n",
       "       [  1.,   1.,   3.,   1.,   5.],\n",
       "       [  3.,   3.,   1.,   0.,   6.],\n",
       "       [  1.,   1.,   1.,   1.,   7.],\n",
       "       [  1.,   1.,   0.,   0.,   8.],\n",
       "       [  1.,   3.,   3.,   3.,   9.],\n",
       "       [  3.,   1.,   3.,   0.,  10.],\n",
       "       [  1.,   3.,   1.,   1.,  11.],\n",
       "       [  3.,   3.,   0.,   0.,  12.],\n",
       "       [  3.,   1.,   0.,   0.,  13.],\n",
       "       [  3.,   3.,   3.,   0.,  14.],\n",
       "       [  1.,   3.,   3.,   1.,  15.],\n",
       "       [  3.,   3.,   1.,   3.,  16.],\n",
       "       [  1.,   3.,   1.,   0.,  17.],\n",
       "       [  1.,   1.,   1.,   0.,  18.],\n",
       "       [  3.,   0.,   0.,   0.,  19.],\n",
       "       [  1.,   1.,   3.,   0.,  20.],\n",
       "       [  1.,   1.,   1.,   3.,  21.],\n",
       "       [  1.,   3.,   3.,   0.,  22.],\n",
       "       [  3.,   1.,   1.,   3.,  23.],\n",
       "       [  3.,   1.,   3.,   3.,  24.],\n",
       "       [  3.,   3.,   1.,   1.,  25.]])"
      ]
     },
     "execution_count": 73,
     "metadata": {},
     "output_type": "execute_result"
    }
   ],
   "source": [
    "my_data"
   ]
  },
  {
   "cell_type": "code",
   "execution_count": 74,
   "metadata": {},
   "outputs": [],
   "source": [
    "code = my_data[:,0:4]\n",
    "label = my_data[:, 4]"
   ]
  },
  {
   "cell_type": "code",
   "execution_count": 87,
   "metadata": {},
   "outputs": [],
   "source": [
    "one_hot_label = tf.one_hot(label, 26, 1, 0, -1)\n",
    "one_hot_label = sess.run(one_hot_label)"
   ]
  },
  {
   "cell_type": "code",
   "execution_count": 88,
   "metadata": {
    "collapsed": true
   },
   "outputs": [],
   "source": [
    "import tensorflow as tf"
   ]
  },
  {
   "cell_type": "code",
   "execution_count": 89,
   "metadata": {
    "collapsed": true
   },
   "outputs": [],
   "source": [
    "x = tf.placeholder(tf.float32, [None, 4])\n",
    "y_ = tf.placeholder(tf.float32, [None, 26])\n",
    "feed_dict1 = {\n",
    "    x: code,\n",
    "    y_: one_hot_label,\n",
    "}"
   ]
  },
  {
   "cell_type": "code",
   "execution_count": 90,
   "metadata": {
    "collapsed": true
   },
   "outputs": [],
   "source": [
    "W1 = tf.Variable(tf.zeros([4, 10]))\n",
    "b1 = tf.Variable(tf.zeros([10]))"
   ]
  },
  {
   "cell_type": "code",
   "execution_count": 91,
   "metadata": {},
   "outputs": [],
   "source": [
    "y1 = tf.nn.softmax(tf.matmul(x, W1) + b1)"
   ]
  },
  {
   "cell_type": "code",
   "execution_count": 92,
   "metadata": {},
   "outputs": [],
   "source": [
    "W2 = tf.Variable(tf.zeros([10, 26]))\n",
    "b2 = tf.Variable(tf.zeros([26]))\n",
    "y = tf.nn.softmax(tf.matmul(y1, W2) + b2)"
   ]
  },
  {
   "cell_type": "code",
   "execution_count": null,
   "metadata": {
    "collapsed": true
   },
   "outputs": [],
   "source": []
  },
  {
   "cell_type": "code",
   "execution_count": 100,
   "metadata": {
    "collapsed": true
   },
   "outputs": [],
   "source": [
    "learning_rate = 0.5"
   ]
  },
  {
   "cell_type": "code",
   "execution_count": 101,
   "metadata": {
    "scrolled": false
   },
   "outputs": [],
   "source": [
    "correct_prediction = tf.equal(tf.argmax(y,1), tf.argmax(y_,1))\n",
    "accuracy = tf.reduce_mean(tf.cast(correct_prediction, tf.float32))\n",
    "\n",
    "loss = tf.reduce_mean(tf.nn.softmax_cross_entropy_with_logits(logits = y, labels = y_))\n",
    "train_step  = tf.train.GradientDescentOptimizer(learning_rate).minimize(loss)\n",
    "\n",
    "# cross_entropy = tf.reduce_mean(-tf.reduce_sum(y_ * tf.log(y), reduction_indices=[1]))\n",
    "# train_step = tf.train.GradientDescentOptimizer(0.5).minimize(cross_entropy)"
   ]
  },
  {
   "cell_type": "code",
   "execution_count": 102,
   "metadata": {
    "collapsed": true
   },
   "outputs": [],
   "source": [
    "sess = tf.InteractiveSession()"
   ]
  },
  {
   "cell_type": "code",
   "execution_count": 103,
   "metadata": {
    "collapsed": true
   },
   "outputs": [],
   "source": [
    "tf.global_variables_initializer().run()"
   ]
  },
  {
   "cell_type": "code",
   "execution_count": 104,
   "metadata": {
    "collapsed": true
   },
   "outputs": [],
   "source": [
    "correct_prediction = tf.equal(tf.argmax(y,1), tf.argmax(y_,1))\n",
    "\n",
    "accuracy = tf.reduce_mean(tf.cast(correct_prediction, tf.float32))"
   ]
  },
  {
   "cell_type": "code",
   "execution_count": 105,
   "metadata": {
    "scrolled": false
   },
   "outputs": [
    {
     "name": "stdout",
     "output_type": "stream",
     "text": [
      "0.0384615\n",
      "0.153846\n",
      "0.153846\n",
      "0.153846\n",
      "0.153846\n",
      "0.153846\n",
      "0.153846\n",
      "0.153846\n",
      "0.153846\n",
      "0.153846\n"
     ]
    }
   ],
   "source": [
    "fnn_result = []\n",
    "for i in range(1000000):\n",
    "#     batch_xs, batch_ys = mnist.train.next_batch(100)\n",
    "#     sess.run(train_step, feed_dict={x: batch_xs, y_: batch_ys})\n",
    "    sess.run(train_step, feed_dict=feed_dict1)\n",
    "    if i % 100000 == 0:\n",
    "        accuracy_val = sess.run(accuracy,feed_dict=feed_dict1)\n",
    "        print( accuracy_val)\n",
    "        fnn_result.append(accuracy_val)\n",
    "#         index_acc = index_acc +1"
   ]
  },
  {
   "cell_type": "code",
   "execution_count": null,
   "metadata": {
    "collapsed": true
   },
   "outputs": [],
   "source": []
  },
  {
   "cell_type": "code",
   "execution_count": null,
   "metadata": {
    "collapsed": true
   },
   "outputs": [],
   "source": []
  }
 ],
 "metadata": {
  "kernelspec": {
   "display_name": "Python 3",
   "language": "python",
   "name": "python3"
  },
  "language_info": {
   "codemirror_mode": {
    "name": "ipython",
    "version": 3
   },
   "file_extension": ".py",
   "mimetype": "text/x-python",
   "name": "python",
   "nbconvert_exporter": "python",
   "pygments_lexer": "ipython3",
   "version": "3.6.1"
  }
 },
 "nbformat": 4,
 "nbformat_minor": 2
}
