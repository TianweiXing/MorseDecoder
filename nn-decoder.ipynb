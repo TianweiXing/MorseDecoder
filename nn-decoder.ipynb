{
 "cells": [
  {
   "cell_type": "code",
   "execution_count": 1,
   "metadata": {
    "collapsed": true
   },
   "outputs": [],
   "source": [
    "import numpy as np\n",
    "import tensorflow as tf\n",
    "\n",
    "from numpy import genfromtxt\n",
    "my_data = genfromtxt('data2.csv', delimiter=',')"
   ]
  },
  {
   "cell_type": "code",
   "execution_count": 2,
   "metadata": {
    "collapsed": false
   },
   "outputs": [
    {
     "data": {
      "text/plain": [
       "array([[  1.,   2.,   0.,   0.,   0.],\n",
       "       [  2.,   1.,   1.,   1.,   1.],\n",
       "       [  2.,   1.,   2.,   1.,   2.],\n",
       "       [  2.,   1.,   1.,   0.,   3.],\n",
       "       [  1.,   0.,   0.,   0.,   4.],\n",
       "       [  1.,   1.,   2.,   1.,   5.],\n",
       "       [  2.,   2.,   1.,   0.,   6.],\n",
       "       [  1.,   1.,   1.,   1.,   7.],\n",
       "       [  1.,   1.,   0.,   0.,   8.],\n",
       "       [  1.,   2.,   2.,   2.,   9.],\n",
       "       [  2.,   1.,   2.,   0.,  10.],\n",
       "       [  1.,   2.,   1.,   1.,  11.],\n",
       "       [  2.,   2.,   0.,   0.,  12.],\n",
       "       [  2.,   1.,   0.,   0.,  13.],\n",
       "       [  2.,   2.,   2.,   0.,  14.],\n",
       "       [  1.,   2.,   2.,   1.,  15.],\n",
       "       [  2.,   2.,   1.,   2.,  16.],\n",
       "       [  1.,   2.,   1.,   0.,  17.],\n",
       "       [  1.,   1.,   1.,   0.,  18.],\n",
       "       [  2.,   0.,   0.,   0.,  19.],\n",
       "       [  1.,   1.,   2.,   0.,  20.],\n",
       "       [  1.,   1.,   1.,   2.,  21.],\n",
       "       [  1.,   2.,   2.,   0.,  22.],\n",
       "       [  2.,   1.,   1.,   2.,  23.],\n",
       "       [  2.,   1.,   2.,   2.,  24.],\n",
       "       [  2.,   2.,   1.,   1.,  25.]])"
      ]
     },
     "execution_count": 2,
     "metadata": {},
     "output_type": "execute_result"
    }
   ],
   "source": [
    "my_data"
   ]
  },
  {
   "cell_type": "code",
   "execution_count": 3,
   "metadata": {
    "collapsed": true
   },
   "outputs": [],
   "source": [
    "code = my_data[:,0:4]\n",
    "label = my_data[:, 4]"
   ]
  },
  {
   "cell_type": "code",
   "execution_count": 4,
   "metadata": {
    "collapsed": true
   },
   "outputs": [],
   "source": [
    "sess = tf.InteractiveSession()"
   ]
  },
  {
   "cell_type": "code",
   "execution_count": 5,
   "metadata": {
    "collapsed": true
   },
   "outputs": [],
   "source": [
    "one_hot_label = tf.one_hot(label, 26, 1, 0, -1)\n",
    "one_hot_label = sess.run(one_hot_label)"
   ]
  },
  {
   "cell_type": "code",
   "execution_count": 6,
   "metadata": {
    "collapsed": true
   },
   "outputs": [],
   "source": [
    "x = tf.placeholder(tf.float32, [None, 4])\n",
    "y_ = tf.placeholder(tf.float32, [None, 26])\n",
    "feed_dict1 = {\n",
    "    x: code,\n",
    "    y_: one_hot_label,\n",
    "}"
   ]
  },
  {
   "cell_type": "code",
   "execution_count": 7,
   "metadata": {
    "collapsed": false
   },
   "outputs": [],
   "source": [
    "W1 = tf.Variable(tf.random_normal([4, 10]))\n",
    "b1 = tf.Variable(tf.random_normal([10]))\n",
    "y1 = tf.nn.relu(tf.matmul(x, W1) + b1)\n",
    "\n",
    "W2 = tf.Variable(tf.random_normal([10, 26]))\n",
    "b2 = tf.Variable(tf.random_normal([26]))\n",
    "\n",
    "y = (tf.matmul(y1, W2) + b2)\n"
   ]
  },
  {
   "cell_type": "code",
   "execution_count": 8,
   "metadata": {
    "collapsed": true
   },
   "outputs": [],
   "source": [
    "# W1 = tf.Variable(tf.random_normal([4, 10]))\n",
    "# b1 = tf.Variable(tf.random_normal([10]))\n",
    "# y1 = tf.nn.relu(tf.matmul(x, W1) + b1)\n",
    "\n",
    "# W2 = tf.Variable(tf.random_normal([10, 10]))\n",
    "# b2 = tf.Variable(tf.random_normal([10]))\n",
    "# y2 = tf.nn.relu(tf.matmul(y1, W2) + b2)\n",
    "\n",
    "# W3 = tf.Variable(tf.random_normal([10, 26]))\n",
    "# b3 = tf.Variable(tf.random_normal([26]))\n",
    "# # y = tf.nn.softmax(tf.matmul(y2, W3) + b3)\n",
    "# y = (tf.matmul(y2, W3) + b3)"
   ]
  },
  {
   "cell_type": "code",
   "execution_count": 9,
   "metadata": {
    "collapsed": false,
    "scrolled": false
   },
   "outputs": [],
   "source": [
    "correct_prediction = tf.equal(tf.argmax(y,1), tf.argmax(y_,1))\n",
    "accuracy = tf.reduce_mean(tf.cast(correct_prediction, tf.float32))\n",
    "\n",
    "loss = tf.reduce_mean(tf.nn.softmax_cross_entropy_with_logits(logits = y, labels = y_))\n",
    "# train_step  = tf.train.GradientDescentOptimizer(learning_rate).minimize(loss)\n",
    "train_step  = tf.train.AdamOptimizer().minimize(loss)\n",
    "\n",
    "# cross_entropy = tf.reduce_mean(-tf.reduce_sum(y_ * tf.log(y), reduction_indices=[1]))\n",
    "# train_step = tf.train.GradientDescentOptimizer(0.5).minimize(cross_entropy)"
   ]
  },
  {
   "cell_type": "code",
   "execution_count": 10,
   "metadata": {
    "collapsed": true
   },
   "outputs": [],
   "source": [
    "tf.global_variables_initializer().run()"
   ]
  },
  {
   "cell_type": "code",
   "execution_count": 11,
   "metadata": {
    "collapsed": false,
    "scrolled": false
   },
   "outputs": [
    {
     "name": "stdout",
     "output_type": "stream",
     "text": [
      "loss:  9.1553 , acc:  0.0384615\n",
      "loss:  1.13178 , acc:  0.846154\n",
      "loss:  0.22191 , acc:  1.0\n",
      "loss:  0.055346 , acc:  1.0\n",
      "loss:  0.0205807 , acc:  1.0\n"
     ]
    }
   ],
   "source": [
    "for i in range(5000):\n",
    "#     batch_xs, batch_ys = mnist.train.next_batch(100)\n",
    "#     sess.run(train_step, feed_dict={x: batch_xs, y_: batch_ys})\n",
    "    _,acc_val,loss_val = sess.run([train_step, accuracy, loss], feed_dict=feed_dict1)\n",
    "    if i % 1000 == 0:\n",
    "        print('loss: ',loss_val, ', acc: ', acc_val)\n"
   ]
  },
  {
   "cell_type": "code",
   "execution_count": null,
   "metadata": {
    "collapsed": true
   },
   "outputs": [],
   "source": []
  }
 ],
 "metadata": {
  "kernelspec": {
   "display_name": "Python 3",
   "language": "python",
   "name": "python3"
  },
  "language_info": {
   "codemirror_mode": {
    "name": "ipython",
    "version": 3
   },
   "file_extension": ".py",
   "mimetype": "text/x-python",
   "name": "python",
   "nbconvert_exporter": "python",
   "pygments_lexer": "ipython3",
   "version": "3.6.0"
  }
 },
 "nbformat": 4,
 "nbformat_minor": 2
}
